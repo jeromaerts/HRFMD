{
 "cells": [
  {
   "cell_type": "markdown",
   "id": "64b916d8-a994-468b-b512-eff1785f711b",
   "metadata": {},
   "source": [
    "# Random Forest feature importance streamflow wflow"
   ]
  },
  {
   "cell_type": "code",
   "execution_count": null,
   "id": "24364383-7b0a-427f-9366-92f3197104d5",
   "metadata": {},
   "outputs": [],
   "source": [
    "import pandas as pd\n",
    "import numpy as np\n",
    "\n",
    "from sklearn.model_selection import cross_val_score\n",
    "from sklearn.model_selection import train_test_split\n",
    "from sklearn.ensemble import RandomForestRegressor\n",
    "from sklearn.preprocessing import StandardScaler\n",
    "from sklearn.preprocessing import MinMaxScaler\n",
    "from sklearn.model_selection import StratifiedKFold\n",
    "from sklearn.metrics import roc_curve, auc\n",
    "from sklearn.base import clone \n",
    "\n",
    "from scipy.stats import ks_2samp\n",
    "from hyperopt import hp, fmin, tpe, STATUS_OK, Trials\n",
    "from functools import partial\n",
    "\n",
    "from tqdm.notebook import trange, tqdm\n",
    "\n",
    "import matplotlib.pyplot as plt\n",
    "\n",
    "from pathlib import Path"
   ]
  },
  {
   "cell_type": "markdown",
   "id": "cad5072c-b9f6-4d77-94e0-7d6e6abbcfdb",
   "metadata": {},
   "source": [
    "## Set Paths"
   ]
  },
  {
   "cell_type": "code",
   "execution_count": null,
   "id": "e4b8e42d-9e55-481a-ba00-59af5bc06d4b",
   "metadata": {},
   "outputs": [],
   "source": [
    "# Set paths\n",
    "ROOT = Path('/gpfs/work1/0/wtrcycle/users/jaerts/model_refinement_pub/')\n",
    "RESULTS = f'{ROOT}/results/new/'"
   ]
  },
  {
   "cell_type": "markdown",
   "id": "e9b4382e-6325-447a-b79c-31ff17e3ffe3",
   "metadata": {},
   "source": [
    "## Load Data"
   ]
  },
  {
   "cell_type": "code",
   "execution_count": null,
   "id": "7d5d8292-962c-4e72-a382-b5eb23a89bfd",
   "metadata": {},
   "outputs": [],
   "source": [
    "# Load Dataframe\n",
    "df = pd.read_csv(f'{RESULTS}/rf_feature_selection/rf_wflow_pcrglob_soil_moisture_camels_attrs.csv', index_col='basin_id')\n",
    "df.loc[df['RRMSE_sm_wflow'] > 10, 'RRMSE_sm_wflow'] = 10\n",
    "df.loc[df['RRMSE_sm_pcrglob'] > 10, 'RRMSE_sm_pcrglob'] = 10\n",
    "df = df.dropna()"
   ]
  },
  {
   "cell_type": "markdown",
   "id": "c76bda60-6fc5-4516-9afd-16e7c722542f",
   "metadata": {},
   "source": [
    "## Creat Train and Test set"
   ]
  },
  {
   "cell_type": "code",
   "execution_count": null,
   "id": "fcc922f4-14de-4070-85f6-7b22bb405cd0",
   "metadata": {},
   "outputs": [],
   "source": [
    "def create_folds(df, variable, n_s=10, n_grp=10):\n",
    "    df = df.reset_index()\n",
    "    df['Fold'] = -1\n",
    "    skf = StratifiedKFold(n_splits=n_s, shuffle=True, random_state=1)\n",
    "    df['grp'] = pd.cut(df[variable], n_grp, labels=False)\n",
    "    target = df.grp\n",
    "    for fold_no, (t, v) in enumerate(skf.split(target, target)):\n",
    "        df.loc[v, 'Fold'] = fold_no\n",
    "        \n",
    "    return df\n"
   ]
  },
  {
   "cell_type": "code",
   "execution_count": null,
   "id": "e2590a2a-9b50-4f7c-9f9f-963227561f44",
   "metadata": {},
   "outputs": [],
   "source": [
    "# create folds\n",
    "n_groups = 25\n",
    "n_folds = 10\n",
    "\n",
    "df = create_folds(df, variable='RRMSE_sm_pcrglob', n_s=n_folds, n_grp=n_groups)"
   ]
  },
  {
   "cell_type": "code",
   "execution_count": null,
   "id": "7d840d67-2826-4810-ba00-a1859bbd38b3",
   "metadata": {},
   "outputs": [],
   "source": [
    "fig, axs = plt.subplots(1, 10, sharex=True, sharey=True, figsize=(10,4))\n",
    "for i, ax in enumerate(axs):\n",
    "    ax.hist(df[df.Fold == i]['RRMSE_sm_pcrglob'], bins=n_groups, density=True, label=f'Fold-{i}')\n",
    "    if i == 0:\n",
    "        ax.set_ylabel('Frequency')\n",
    "    if i == 2:\n",
    "        ax.set_xlabel(\"Target\")\n",
    "    ax.legend(frameon=False, handlelength=0)\n",
    "plt.tight_layout()\n",
    "plt.show()\n",
    "\n",
    "for fold in np.sort(df.Fold.unique())[1:]:\n",
    "    print(f'Fold 0 vs {fold}:', ks_2samp(df.loc[df.Fold==0,'RRMSE_sm_pcrglob'], df.loc[df.Fold==fold,'RRMSE_sm_pcrglob']))"
   ]
  },
  {
   "cell_type": "markdown",
   "id": "05afa820-fde8-4fc6-a86f-2e4fb6174b9f",
   "metadata": {},
   "source": [
    "## Define Target and Features"
   ]
  },
  {
   "cell_type": "code",
   "execution_count": null,
   "id": "06418881-a2c5-4a51-a08e-ce8835487ead",
   "metadata": {},
   "outputs": [],
   "source": [
    "X = df.drop(columns=['basin_id', 'RRMSE_sm_wflow','RRMSE_sm_wflow'])\n",
    "y = df['RRMSE_sm_pcrglob']"
   ]
  },
  {
   "cell_type": "markdown",
   "id": "69bff2ba-979b-4b35-9634-46b49d6c024b",
   "metadata": {},
   "source": [
    "## Load Hyper Parameters"
   ]
  },
  {
   "cell_type": "code",
   "execution_count": null,
   "id": "82f66fb3-c46e-4bbc-a85e-beed76d6ec1c",
   "metadata": {},
   "outputs": [],
   "source": [
    "trials_df = pd.read_csv(f'{RESULTS}/rf_feature_selection/hyper_parameters/rf_hyperparam_pcrglob_soil_moisture.csv')\n",
    "trials_df.sort_values('loss').iloc[0]"
   ]
  },
  {
   "cell_type": "markdown",
   "id": "9ce6497e-8e45-4db7-9ad2-6a4f94f0a832",
   "metadata": {},
   "source": [
    "## Select best hyper parameters and create model"
   ]
  },
  {
   "cell_type": "code",
   "execution_count": null,
   "id": "e1e69875-c7e8-4d1b-8425-df763c5af236",
   "metadata": {},
   "outputs": [],
   "source": [
    "rf = RandomForestRegressor(\n",
    "    n_estimators=int(trials_df.sort_values('loss').iloc[0].n_estimators),\n",
    "    max_depth=int(trials_df.sort_values('loss').iloc[0].max_depth),\n",
    "    max_features=float(trials_df.sort_values('loss').iloc[0].max_features),\n",
    "    max_samples=float(trials_df.sort_values('loss').iloc[0].max_samples),\n",
    "    random_state=int(trials_df.sort_values('loss').iloc[0].random_state),\n",
    "    n_jobs=10)"
   ]
  },
  {
   "cell_type": "markdown",
   "id": "9474df63-84ed-4808-bc80-3c52f91ed210",
   "metadata": {},
   "source": [
    "# Drop column feature importance"
   ]
  },
  {
   "cell_type": "markdown",
   "id": "dc3ca497-0d31-4cf4-9d3e-284984e72955",
   "metadata": {},
   "source": [
    "## Complete dataset standardized Train only"
   ]
  },
  {
   "cell_type": "code",
   "execution_count": null,
   "id": "e87f4a4e-784e-4f88-a84b-d98c127f669f",
   "metadata": {},
   "outputs": [],
   "source": [
    "def imp_df(folds, features, importances,benchmark_scores):\n",
    "    data = {\n",
    "        'Fold' : folds,\n",
    "        'Feature': features,\n",
    "        'Importance': importances,\n",
    "        'Benchmark Score': benchmark_scores\n",
    "    }\n",
    "    df = pd.DataFrame(data) \\\n",
    "        .set_index('Feature') \\\n",
    "        .sort_values('Importance', ascending=False)\n",
    "\n",
    "    return df\n",
    "\n",
    "def drop_col_feat_imp(model, X, y):\n",
    "    # drop column feature importance\n",
    "    # https://towardsdatascience.com/explaining-feature-importance-by-example-of-a-random-forest-d9166011959e\n",
    "    \n",
    "    # list for storing feature importances\n",
    "    folds = []\n",
    "    features = []\n",
    "    benchmark_scores = []\n",
    "    importances = []\n",
    "        \n",
    "    # Loop folds, leave 1 out\n",
    "    losses = []\n",
    "    for k in range(n_folds):\n",
    "        X_test = X.loc[X.Fold==k]\n",
    "        X_test = X_test.drop(columns=['Fold','grp'])\n",
    "\n",
    "        y_test = y.loc[X_test.index]\n",
    "\n",
    "        X_train = X.drop(X_test.index)\n",
    "        X_train = X_train.drop(columns=['Fold','grp'])\n",
    "\n",
    "        y_train = y.loc[X_train.index]\n",
    "        \n",
    "        # Standardize data\n",
    "        # https://towardsdatascience.com/how-data-normalization-affects-your-random-forest-algorithm-fbc6753b4ddf\n",
    "        scaler = StandardScaler()\n",
    "        X_train_scale = scaler.fit_transform(X_train)\n",
    "        X_test_scale = scaler.transform(X_test)\n",
    "        \n",
    "        y_train_scale = scaler.fit_transform(y_train.values.reshape(-1,1)).ravel()\n",
    "        y_test_scale = scaler.transform(y_test.values.reshape(-1,1)).ravel()\n",
    "        \n",
    "        # Clone model \n",
    "        model_clone = clone(model)\n",
    "        \n",
    "        # Fit the model on the training dataset and calculate the benchmark score \n",
    "        model_clone.fit(X_train_scale, y_train_scale)\n",
    "        benchmark_score = model_clone.score(X_test_scale, y_test_scale)\n",
    "        print(f'Fold {k+1}: Benchmark Score: {benchmark_score}')\n",
    "        \n",
    "        # iterating over all columns and storing feature importance (difference between benchmark and new model)\n",
    "        for i, col in enumerate(X_train.columns):\n",
    "            print(f'Fold {k+1}: {i} of {len(X_train.columns)} columns', end='\\r')\n",
    "\n",
    "            # Clone model\n",
    "            model_clone_drop = clone(model)\n",
    "\n",
    "            # Drop column\n",
    "            X_train_drop = X_train.drop(col, axis = 1)\n",
    "            X_test_drop = X_test.drop(col, axis = 1)\n",
    "\n",
    "            # Standardize data\n",
    "            scaler = StandardScaler()\n",
    "            X_train_scale = scaler.fit_transform(X_train_drop)\n",
    "            X_test_scale = scaler.transform(X_test_drop)\n",
    "\n",
    "            # Train model\n",
    "            model_clone.fit(X_train_scale, y_train_scale)\n",
    "\n",
    "            # Calculate score\n",
    "            drop_col_score = model_clone.score(X_test_scale, y_test_scale)\n",
    "\n",
    "            # Append importance\n",
    "            folds.append(k)\n",
    "            features.append(col)\n",
    "            benchmark_scores.append(benchmark_score)\n",
    "            importances.append(benchmark_score - drop_col_score)\n",
    "            \n",
    "    # Create output dataframe\n",
    "    importances_df = imp_df(folds, features, importances, benchmark_scores)        \n",
    "     \n",
    "    return importances_df"
   ]
  },
  {
   "cell_type": "code",
   "execution_count": null,
   "id": "2a1f7936-b8de-445c-8942-a26468938971",
   "metadata": {},
   "outputs": [],
   "source": [
    "importances_df = drop_col_feat_imp(rf, X, y)\n",
    "importances_df.to_csv(f'{RESULTS}/rf_feature_selection/feature_importance/fold_feature_importance_rf_pcrglob_soil_moisture.csv')\n",
    "importances_df = importances_df.drop(columns=['Fold'])\n",
    "importances_df = importances_df.groupby(importances_df.index).mean()\n",
    "importances_df.to_csv(f'{RESULTS}/rf_feature_selection/feature_importance/feature_importance_rf_pcrglob_soil_moisture.csv')"
   ]
  },
  {
   "cell_type": "code",
   "execution_count": null,
   "id": "cab5a298-4905-4f44-bd9c-507c23a5a65d",
   "metadata": {},
   "outputs": [],
   "source": [
    "importances_df = importances_df.drop(columns=['Benchmark Score'])\n",
    "importances_df.sort_values(by=['Importance'], ascending=True).plot(kind='barh', figsize=(20, 20)).set(xlabel=\"Drop Column Importance Score\")\n",
    "plt.savefig(\"/gpfs/home6/jaerts/model_refinement_master/temp/soil_moisture_pcrglob.png\")"
   ]
  },
  {
   "cell_type": "code",
   "execution_count": null,
   "id": "1afbd627-f4c9-40aa-963d-6e399c0293e5",
   "metadata": {},
   "outputs": [],
   "source": []
  }
 ],
 "metadata": {
  "kernelspec": {
   "display_name": "Python 3 (ipykernel)",
   "language": "python",
   "name": "python3"
  },
  "language_info": {
   "codemirror_mode": {
    "name": "ipython",
    "version": 3
   },
   "file_extension": ".py",
   "mimetype": "text/x-python",
   "name": "python",
   "nbconvert_exporter": "python",
   "pygments_lexer": "ipython3",
   "version": "3.10.6"
  }
 },
 "nbformat": 4,
 "nbformat_minor": 5
}
