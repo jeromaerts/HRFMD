{
 "cells": [
  {
   "cell_type": "code",
   "execution_count": null,
   "id": "bfc289da-7829-4ce6-abde-fbb7d275b2e2",
   "metadata": {},
   "outputs": [],
   "source": []
  },
  {
   "cell_type": "markdown",
   "id": "a43ddb85-b270-40e0-bf19-6f2cb2dd898d",
   "metadata": {},
   "source": [
    "# Random Forest feature importance streamflow wflow"
   ]
  },
  {
   "cell_type": "code",
   "execution_count": 1,
   "id": "395fa7d9-7507-4318-ad1d-62a2c993e8a4",
   "metadata": {},
   "outputs": [],
   "source": [
    "import pandas as pd\n",
    "import numpy as np\n",
    "\n",
    "from sklearn.model_selection import cross_val_score\n",
    "from sklearn.model_selection import train_test_split\n",
    "from sklearn.ensemble import RandomForestRegressor\n",
    "from sklearn.preprocessing import StandardScaler\n",
    "from sklearn.preprocessing import MinMaxScaler\n",
    "from sklearn.model_selection import StratifiedKFold\n",
    "from sklearn.metrics import roc_curve, auc\n",
    "from sklearn.base import clone \n",
    "\n",
    "from scipy.stats import ks_2samp\n",
    "from hyperopt import hp, fmin, tpe, STATUS_OK, Trials\n",
    "from functools import partial\n",
    "from tqdm.notebook import trange, tqdm\n",
    "\n",
    "import matplotlib.pyplot as plt\n",
    "from pathlib import Path"
   ]
  },
  {
   "cell_type": "markdown",
   "id": "d8e4e8a7-eaaf-4fe2-84f1-e6c3be35b377",
   "metadata": {},
   "source": [
    "## Set Paths"
   ]
  },
  {
   "cell_type": "code",
   "execution_count": 2,
   "id": "e83d3e3f-f3fb-48c1-85e0-e79ac19f3019",
   "metadata": {},
   "outputs": [],
   "source": [
    "# Set paths\n",
    "ROOT = Path('/gpfs/work1/0/wtrcycle/users/jaerts/model_refinement_pub/')\n",
    "RESULTS = f'{ROOT}/results/new/'"
   ]
  },
  {
   "cell_type": "markdown",
   "id": "ecf6b1b1-877e-494c-8acc-4aa4f66c7bb1",
   "metadata": {},
   "source": [
    "## Load Data"
   ]
  },
  {
   "cell_type": "code",
   "execution_count": 3,
   "id": "ff941def-9307-4574-8f74-5762575beef4",
   "metadata": {},
   "outputs": [],
   "source": [
    "# Load Dataframe\n",
    "df = pd.read_csv(f'{RESULTS}/rf_feature_selection/rf_wflow_pcrglob_soil_moisture_camels_attrs.csv', index_col='basin_id')\n",
    "\n",
    "df.loc[df['RRMSE_sm_wflow'] > 10, 'RRMSE_sm_wflow'] = 10\n",
    "df.loc[df['RRMSE_sm_pcrglob'] > 10, 'RRMSE_sm_pcrglob'] = 10\n",
    "df['delta'] = df.RRMSE_sm_wflow - df.RRMSE_sm_pcrglob\n",
    "df = df.dropna()\n",
    "\n"
   ]
  },
  {
   "cell_type": "markdown",
   "id": "533194d6-b61d-439f-8268-b65f6551eab8",
   "metadata": {},
   "source": [
    "## Creat Train and Test set"
   ]
  },
  {
   "cell_type": "code",
   "execution_count": 4,
   "id": "7f091e93-9a4b-4a4e-b32b-8d8f1ebd6070",
   "metadata": {},
   "outputs": [
    {
     "name": "stderr",
     "output_type": "stream",
     "text": [
      "/home/jaerts/miniconda3/envs/wflow_state_flux/lib/python3.10/site-packages/sklearn/model_selection/_split.py:700: UserWarning: The least populated class in y has only 1 members, which is less than n_splits=10.\n",
      "  warnings.warn(\n"
     ]
    }
   ],
   "source": [
    "def create_folds(df, variable, n_s=10, n_grp=10):\n",
    "    df = df.reset_index()\n",
    "    df['Fold'] = -1\n",
    "    skf = StratifiedKFold(n_splits=n_s, shuffle=True, random_state=1)\n",
    "    df['grp'] = pd.cut(df[variable], n_grp, labels=False)\n",
    "    target = df.grp\n",
    "    for fold_no, (t, v) in enumerate(skf.split(target, target)):\n",
    "        df.loc[v, 'Fold'] = fold_no\n",
    "    return df\n",
    "\n",
    "# create folds\n",
    "n_groups = 25\n",
    "n_folds = 10\n",
    "\n",
    "df = create_folds(df, variable='delta', n_s=n_folds, n_grp=n_groups)"
   ]
  },
  {
   "cell_type": "code",
   "execution_count": 5,
   "id": "0eaa06fb-ac1d-4014-ab56-faca99296310",
   "metadata": {},
   "outputs": [
    {
     "data": {
      "image/png": "[encoded data removed]",
      "text/plain": [
       "<Figure size 1000x400 with 10 Axes>"
      ]
     },
     "metadata": {},
     "output_type": "display_data"
    },
    {
     "name": "stdout",
     "output_type": "stream",
     "text": [
      "Fold 0 vs 1: KstestResult(statistic=0.078125, pvalue=0.9907746509475145)\n",
      "Fold 0 vs 2: KstestResult(statistic=0.078125, pvalue=0.9907746509475145)\n",
      "Fold 0 vs 3: KstestResult(statistic=0.078125, pvalue=0.9907746509475145)\n",
      "Fold 0 vs 4: KstestResult(statistic=0.078125, pvalue=0.9907746509475145)\n",
      "Fold 0 vs 5: KstestResult(statistic=0.09375, pvalue=0.9439990378651473)\n",
      "Fold 0 vs 6: KstestResult(statistic=0.10069444444444445, pvalue=0.8589398655347046)\n",
      "Fold 0 vs 7: KstestResult(statistic=0.05803571428571429, pvalue=0.9993660456384517)\n",
      "Fold 0 vs 8: KstestResult(statistic=0.13219246031746032, pvalue=0.5765256584813276)\n",
      "Fold 0 vs 9: KstestResult(statistic=0.07390873015873016, pvalue=0.9856523901392108)\n"
     ]
    }
   ],
   "source": [
    "fig, axs = plt.subplots(1, 10, sharex=True, sharey=True, figsize=(10,4))\n",
    "for i, ax in enumerate(axs):\n",
    "    ax.hist(df[df.Fold == i]['delta'], bins=n_groups, density=True, label=f'Fold-{i}')\n",
    "    if i == 0:\n",
    "        ax.set_ylabel('Frequency')\n",
    "    if i == 2:\n",
    "        ax.set_xlabel(\"Target\")\n",
    "    ax.legend(frameon=False, handlelength=0)\n",
    "plt.tight_layout()\n",
    "plt.show()\n",
    "\n",
    "for fold in np.sort(df.Fold.unique())[1:]:\n",
    "    print(f'Fold 0 vs {fold}:', ks_2samp(df.loc[df.Fold==0,'delta'], df.loc[df.Fold==fold,'delta']))"
   ]
  },
  {
   "cell_type": "markdown",
   "id": "f6e75c05-bc5e-4fcd-bc7c-39a15add9901",
   "metadata": {},
   "source": [
    "## Define Target and Features"
   ]
  },
  {
   "cell_type": "code",
   "execution_count": 6,
   "id": "72e29b6d-5fa8-4f20-986f-9a3952d61ea9",
   "metadata": {},
   "outputs": [],
   "source": [
    "X = df.drop(columns=['basin_id', 'RRMSE_sm_wflow','RRMSE_sm_pcrglob','delta'])\n",
    "y = df['delta']"
   ]
  },
  {
   "cell_type": "markdown",
   "id": "23dfb797-a9d1-4c46-a487-720df5087182",
   "metadata": {},
   "source": [
    "## Load Hyper Parameters"
   ]
  },
  {
   "cell_type": "code",
   "execution_count": 7,
   "id": "8a556ae5-9fa0-4343-9a25-70e8bd4e10db",
   "metadata": {},
   "outputs": [
    {
     "data": {
      "text/plain": [
       "Unnamed: 0       22.0000\n",
       "max_depth         8.0000\n",
       "max_features      0.9000\n",
       "max_samples       0.8000\n",
       "n_estimators    110.0000\n",
       "random_state    500.0000\n",
       "loss              0.8115\n",
       "Name: 22, dtype: float64"
      ]
     },
     "execution_count": 7,
     "metadata": {},
     "output_type": "execute_result"
    }
   ],
   "source": [
    "trials_df = pd.read_csv(f'{RESULTS}/rf_feature_selection/hyper_parameters/rf_hyperparam_delta_wp_soil_moisture.csv')\n",
    "trials_df.sort_values('loss').iloc[0]"
   ]
  },
  {
   "cell_type": "markdown",
   "id": "d878833a-2a89-46c2-a1c2-d8291e53aa22",
   "metadata": {},
   "source": [
    "## Select best hyper parameters and create model"
   ]
  },
  {
   "cell_type": "code",
   "execution_count": 8,
   "id": "0e65651c-942a-4819-91a4-178129b2d7fd",
   "metadata": {},
   "outputs": [],
   "source": [
    "rf = RandomForestRegressor(\n",
    "    n_estimators=int(trials_df.sort_values('loss').iloc[0].n_estimators),\n",
    "    max_depth=int(trials_df.sort_values('loss').iloc[0].max_depth),\n",
    "    max_features=float(trials_df.sort_values('loss').iloc[0].max_features),\n",
    "    max_samples=float(trials_df.sort_values('loss').iloc[0].max_samples),\n",
    "    random_state=int(trials_df.sort_values('loss').iloc[0].random_state),\n",
    "    n_jobs=10)"
   ]
  },
  {
   "cell_type": "markdown",
   "id": "8719c545-c6b3-47db-a9c4-a6d9bbe78ecd",
   "metadata": {},
   "source": [
    "# Drop column feature importance"
   ]
  },
  {
   "cell_type": "markdown",
   "id": "0647dddf-0d06-45ee-8955-ce97348f8c14",
   "metadata": {},
   "source": [
    "## Complete dataset standardized Train only"
   ]
  },
  {
   "cell_type": "code",
   "execution_count": 9,
   "id": "01cdee17-74a6-4485-bbec-aebc76dc3833",
   "metadata": {},
   "outputs": [],
   "source": [
    "def imp_df(folds, features, importances,benchmark_scores):\n",
    "    data = {\n",
    "        'Fold' : folds,\n",
    "        'Feature': features,\n",
    "        'Importance': importances,\n",
    "        'Benchmark Score': benchmark_scores\n",
    "    }\n",
    "    df = pd.DataFrame(data) \\\n",
    "        .set_index('Feature') \\\n",
    "        .sort_values('Importance', ascending=False)\n",
    "\n",
    "    return df\n",
    "\n",
    "def drop_col_feat_imp(model, X, y):\n",
    "    # drop column feature importance\n",
    "    # https://towardsdatascience.com/explaining-feature-importance-by-example-of-a-random-forest-d9166011959e\n",
    "    \n",
    "    # list for storing feature importances\n",
    "    folds = []\n",
    "    features = []\n",
    "    benchmark_scores = []\n",
    "    importances = []\n",
    "        \n",
    "    # Loop folds, leave 1 out\n",
    "    losses = []\n",
    "    for k in range(n_folds):\n",
    "        X_test = X.loc[X.Fold==k]\n",
    "        X_test = X_test.drop(columns=['Fold','grp'])\n",
    "\n",
    "        y_test = y.loc[X_test.index]\n",
    "\n",
    "        X_train = X.drop(X_test.index)\n",
    "        X_train = X_train.drop(columns=['Fold','grp'])\n",
    "\n",
    "        y_train = y.loc[X_train.index]\n",
    "        \n",
    "        # Standardize data\n",
    "        # https://towardsdatascience.com/how-data-normalization-affects-your-random-forest-algorithm-fbc6753b4ddf\n",
    "        scaler = StandardScaler()\n",
    "        X_train_scale = scaler.fit_transform(X_train)\n",
    "        X_test_scale = scaler.transform(X_test)\n",
    "        \n",
    "        y_train_scale = scaler.fit_transform(y_train.values.reshape(-1,1)).ravel()\n",
    "        y_test_scale = scaler.transform(y_test.values.reshape(-1,1)).ravel()\n",
    "        \n",
    "        # Clone model \n",
    "        model_clone = clone(model)\n",
    "        \n",
    "        # Fit the model on the training dataset and calculate the benchmark score \n",
    "        model_clone.fit(X_train_scale, y_train_scale)\n",
    "        benchmark_score = model_clone.score(X_test_scale, y_test_scale)\n",
    "        print(f'Fold {k+1}: Benchmark Score: {benchmark_score}')\n",
    "        \n",
    "        # iterating over all columns and storing feature importance (difference between benchmark and new model)\n",
    "        for i, col in enumerate(X_train.columns):\n",
    "            print(f'Fold {k+1}: {i} of {len(X_train.columns)} columns', end='\\r')\n",
    "\n",
    "            # Clone model\n",
    "            model_clone_drop = clone(model)\n",
    "\n",
    "            # Drop column\n",
    "            X_train_drop = X_train.drop(col, axis = 1)\n",
    "            X_test_drop = X_test.drop(col, axis = 1)\n",
    "\n",
    "            # Standardize data\n",
    "            scaler = StandardScaler()\n",
    "            X_train_scale = scaler.fit_transform(X_train_drop)\n",
    "            X_test_scale = scaler.transform(X_test_drop)\n",
    "\n",
    "            # Train model\n",
    "            model_clone.fit(X_train_scale, y_train_scale)\n",
    "\n",
    "            # Calculate score\n",
    "            drop_col_score = model_clone.score(X_test_scale, y_test_scale)\n",
    "\n",
    "            # Append importance\n",
    "            folds.append(k)\n",
    "            features.append(col)\n",
    "            benchmark_scores.append(benchmark_score)\n",
    "            importances.append(benchmark_score - drop_col_score)\n",
    "            \n",
    "    # Create output dataframe\n",
    "    importances_df = imp_df(folds, features, importances, benchmark_scores)        \n",
    "     \n",
    "    return importances_df"
   ]
  },
  {
   "cell_type": "code",
   "execution_count": null,
   "id": "ed0adaba-ce00-4ed4-9f6c-c9d28d5b3373",
   "metadata": {},
   "outputs": [
    {
     "name": "stdout",
     "output_type": "stream",
     "text": [
      "Fold 1: Benchmark Score: 0.060592604901972824\n",
      "Fold 2: Benchmark Score: 0.18768400387168038\n",
      "Fold 2: 12 of 58 columns\r"
     ]
    }
   ],
   "source": [
    "importances_df = drop_col_feat_imp(rf, X, y)\n",
    "importances_df.to_csv(f'{RESULTS}/rf_feature_selection/feature_importance/fold_feature_importance_rf_delta_wp_soil_moisture.csv')\n",
    "importances_df = importances_df.drop(columns=['Fold'])\n",
    "importances_df = importances_df.groupby(importances_df.index).mean()\n",
    "importances_df.to_csv(f'{RESULTS}/rf_feature_selection/feature_importance/feature_importance_rf_delta_wp_soil_moisture.csv')"
   ]
  },
  {
   "cell_type": "code",
   "execution_count": null,
   "id": "1d46f04f-4a40-46cd-bba4-0bfd3a4c0839",
   "metadata": {},
   "outputs": [],
   "source": [
    "importances_df = importances_df.drop(columns=['Benchmark Score'])\n",
    "importances_df.sort_values(by=['Importance'], ascending=True).plot(kind='barh', figsize=(20, 20)).set(xlabel=\"Drop Column Importance Score\")\n",
    "plt.savefig(\"/gpfs/home6/jaerts/model_refinement_master/temp/soil_moisture_delta.png\")"
   ]
  },
  {
   "cell_type": "code",
   "execution_count": null,
   "id": "1f04d132-e140-4275-a302-39a5aa1c1e42",
   "metadata": {},
   "outputs": [],
   "source": []
  },
  {
   "cell_type": "code",
   "execution_count": null,
   "id": "a440de38-dc5f-4a5f-9dfc-daab99c8e653",
   "metadata": {},
   "outputs": [],
   "source": []
  },
  {
   "cell_type": "code",
   "execution_count": null,
   "id": "40f87442-dcf9-4962-a222-16f6cd78942a",
   "metadata": {},
   "outputs": [],
   "source": []
  },
  {
   "cell_type": "code",
   "execution_count": null,
   "id": "1afbd627-f4c9-40aa-963d-6e399c0293e5",
   "metadata": {},
   "outputs": [],
   "source": []
  }
 ],
 "metadata": {
  "kernelspec": {
   "display_name": "Python 3 (ipykernel)",
   "language": "python",
   "name": "python3"
  },
  "language_info": {
   "codemirror_mode": {
    "name": "ipython",
    "version": 3
   },
   "file_extension": ".py",
   "mimetype": "text/x-python",
   "name": "python",
   "nbconvert_exporter": "python",
   "pygments_lexer": "ipython3",
   "version": "3.10.6"
  }
 },
 "nbformat": 4,
 "nbformat_minor": 5
}
