{
 "cells": [
  {
   "cell_type": "markdown",
   "id": "b15e274c-4e58-4fe0-9511-75a5381abe4b",
   "metadata": {},
   "source": [
    "# Random Forest feature selection wflow_sbm streamflow"
   ]
  },
  {
   "cell_type": "code",
   "execution_count": 1,
   "id": "9149a1df-fe1a-4378-94f6-b8ad835c43d3",
   "metadata": {},
   "outputs": [],
   "source": [
    "import pandas as pd\n",
    "import numpy as np\n",
    "\n",
    "from sklearn.model_selection import cross_val_score\n",
    "from sklearn.model_selection import train_test_split\n",
    "from sklearn.ensemble import RandomForestRegressor\n",
    "from sklearn.preprocessing import StandardScaler\n",
    "from sklearn.preprocessing import MinMaxScaler\n",
    "from sklearn.model_selection import StratifiedKFold\n",
    "from sklearn.metrics import roc_curve, auc\n",
    "from sklearn.base import clone \n",
    "\n",
    "from scipy.stats import ks_2samp\n",
    "from hyperopt import hp, fmin, tpe, STATUS_OK, Trials\n",
    "from functools import partial\n",
    "from tqdm.notebook import trange, tqdm\n",
    "\n",
    "import matplotlib.pyplot as plt\n",
    "from pathlib import Path"
   ]
  },
  {
   "cell_type": "markdown",
   "id": "cef1d165-7be5-4673-a5e1-799ad3fd90e8",
   "metadata": {},
   "source": [
    "## Set Paths"
   ]
  },
  {
   "cell_type": "code",
   "execution_count": 2,
   "id": "e4d4fc90-2869-4e60-978c-a84626786bc3",
   "metadata": {},
   "outputs": [],
   "source": [
    "# Set paths\n",
    "ROOT = Path('/gpfs/work1/0/wtrcycle/users/jaerts/model_refinement_pub/')\n",
    "RESULTS = f'{ROOT}/results/new/'"
   ]
  },
  {
   "cell_type": "markdown",
   "id": "d4ca2448-206c-4ba4-b230-f7a8e5ee7dbc",
   "metadata": {},
   "source": [
    "## Load data"
   ]
  },
  {
   "cell_type": "code",
   "execution_count": 3,
   "id": "78045386-c5b3-4f24-bfe8-e545652bb1ea",
   "metadata": {},
   "outputs": [],
   "source": [
    "# Load Dataframe\n",
    "df_pcrglob = pd.read_csv(f'{RESULTS}/rf_feature_selection/rf_wflow_pcrglob_evaporation_camels_attrs.csv', index_col='basin_id')\n",
    "df_pcrglob = df_pcrglob.dropna()"
   ]
  },
  {
   "cell_type": "code",
   "execution_count": null,
   "id": "38f807fe-fb64-4497-9aeb-eac689e32ddc",
   "metadata": {},
   "outputs": [],
   "source": []
  },
  {
   "cell_type": "markdown",
   "id": "bc94af39-fef3-4998-99de-3e13a4a00214",
   "metadata": {},
   "source": [
    "## Define folds"
   ]
  },
  {
   "cell_type": "code",
   "execution_count": 4,
   "id": "6a66393b-db99-4fa5-90cf-9d1a91ff99de",
   "metadata": {},
   "outputs": [],
   "source": [
    "def create_folds(df, variable, n_s=10, n_grp=10):\n",
    "    df = df.reset_index()\n",
    "    df['Fold'] = -1\n",
    "    skf = StratifiedKFold(n_splits=n_s, shuffle=True, random_state=1)\n",
    "    df['grp'] = pd.cut(df[variable], n_grp, labels=False)\n",
    "    target = df.grp\n",
    "    for fold_no, (t, v) in enumerate(skf.split(target, target)):\n",
    "        df.loc[v, 'Fold'] = fold_no\n",
    "        \n",
    "    return df"
   ]
  },
  {
   "cell_type": "code",
   "execution_count": 5,
   "id": "170a1866-b18b-4ec0-888c-1a5abb64dce8",
   "metadata": {
    "tags": []
   },
   "outputs": [
    {
     "name": "stderr",
     "output_type": "stream",
     "text": [
      "/home/jaerts/miniconda3/envs/wflow_state_flux/lib/python3.10/site-packages/sklearn/model_selection/_split.py:700: UserWarning: The least populated class in y has only 2 members, which is less than n_splits=10.\n",
      "  warnings.warn(\n"
     ]
    }
   ],
   "source": [
    "# create folds\n",
    "n_groups = 10\n",
    "n_folds = 10\n",
    "\n",
    "df = create_folds(df_pcrglob, variable='RRMSE_et_pcrglob', n_s=n_folds, n_grp=n_groups)"
   ]
  },
  {
   "cell_type": "markdown",
   "id": "9ccdcda0-ecad-4c0a-9fe0-c0bd824592a7",
   "metadata": {},
   "source": [
    "## Test folds"
   ]
  },
  {
   "cell_type": "code",
   "execution_count": 6,
   "id": "fe38fea4-18d8-4ab4-af6b-6857a65fd2b8",
   "metadata": {},
   "outputs": [
    {
     "data": {
      "image/png": "[encoded data removed]",
      "text/plain": [
       "<Figure size 1000x400 with 10 Axes>"
      ]
     },
     "metadata": {},
     "output_type": "display_data"
    },
    {
     "name": "stdout",
     "output_type": "stream",
     "text": [
      "Fold 0 vs 1: KstestResult(statistic=0.078125, pvalue=0.9907746509475145)\n",
      "Fold 0 vs 2: KstestResult(statistic=0.0625, pvalue=0.9997180010908584)\n",
      "Fold 0 vs 3: KstestResult(statistic=0.109375, pvalue=0.842628651159718)\n",
      "Fold 0 vs 4: KstestResult(statistic=0.109375, pvalue=0.842628651159718)\n",
      "Fold 0 vs 5: KstestResult(statistic=0.078125, pvalue=0.9907746509475145)\n",
      "Fold 0 vs 6: KstestResult(statistic=0.08655753968253968, pvalue=0.9446691525515624)\n",
      "Fold 0 vs 7: KstestResult(statistic=0.1388888888888889, pvalue=0.49473770848651283)\n",
      "Fold 0 vs 8: KstestResult(statistic=0.09126984126984126, pvalue=0.9168648540135521)\n",
      "Fold 0 vs 9: KstestResult(statistic=0.07341269841269842, pvalue=0.986632075466618)\n"
     ]
    }
   ],
   "source": [
    "fig, axs = plt.subplots(1, 10, sharex=True, sharey=True, figsize=(10,4))\n",
    "for i, ax in enumerate(axs):\n",
    "    ax.hist(df[df.Fold == i]['RRMSE_et_pcrglob'], bins=n_groups, density=True, label=f'Fold-{i}')\n",
    "    if i == 0:\n",
    "        ax.set_ylabel('Frequency')\n",
    "    if i == 2:\n",
    "        ax.set_xlabel(\"Target\")\n",
    "    ax.legend(frameon=False, handlelength=0)\n",
    "plt.tight_layout()\n",
    "plt.show()\n",
    "\n",
    "for fold in np.sort(df.Fold.unique())[1:]:\n",
    "    print(f'Fold 0 vs {fold}:', ks_2samp(df.loc[df.Fold==0,'RRMSE_et_pcrglob'], df.loc[df.Fold==fold,'RRMSE_et_pcrglob']))"
   ]
  },
  {
   "cell_type": "markdown",
   "id": "ac440df7-6758-4951-9d73-eb222a059d4b",
   "metadata": {},
   "source": [
    "## Define target and features"
   ]
  },
  {
   "cell_type": "code",
   "execution_count": 7,
   "id": "c0b49c9e-067a-41b6-9c11-e42f5f134d49",
   "metadata": {},
   "outputs": [],
   "source": [
    "X = df.drop(columns=['basin_id', 'RRMSE_et_wflow','RRMSE_et_pcrglob'])\n",
    "y = df['RRMSE_et_pcrglob']"
   ]
  },
  {
   "cell_type": "markdown",
   "id": "75d80c4d-0bbd-4598-8af1-b4f29479ceab",
   "metadata": {},
   "source": [
    "# Hyper parameter search"
   ]
  },
  {
   "cell_type": "markdown",
   "id": "96cca4f9-3b96-4db8-a08e-fe995d3af7bc",
   "metadata": {},
   "source": [
    "## Set Search Space TPE and config"
   ]
  },
  {
   "cell_type": "code",
   "execution_count": 8,
   "id": "bc28c128-b548-4c1b-ada4-44e77fd55ed4",
   "metadata": {},
   "outputs": [],
   "source": [
    "search_space = {\n",
    "    'n_estimators': hp.quniform('n_estimators', 10, 200, 10),\n",
    "    'max_depth': hp.quniform('max_depth', 1, 10, 1),\n",
    "    'max_features': hp.quniform('max_features', 0.1, 1, 0.1),\n",
    "    'max_samples': hp.quniform('max_samples', 0.1, 1, 0.1), \n",
    "    'random_state': hp.quniform('random_state', 1, 500, 100)\n",
    "}\n",
    "\n",
    "# Set Iterations TPE\n",
    "evals = 300\n",
    "\n",
    "# Create Output Dict\n",
    "trials = Trials()"
   ]
  },
  {
   "cell_type": "markdown",
   "id": "9d0fdc90-a310-425f-8d42-d6c82d2c72f4",
   "metadata": {},
   "source": [
    "## TPE Functions"
   ]
  },
  {
   "cell_type": "code",
   "execution_count": 9,
   "id": "09c27fca-407d-4e55-8e8f-54247720f198",
   "metadata": {},
   "outputs": [],
   "source": [
    "def train_score_rf(params, n_folds=n_folds, X=X, y=y):\n",
    "    # Loop folds, leave 1 out\n",
    "    losses = []\n",
    "    for k in range(n_folds):\n",
    "        X_test = X.loc[X.Fold==k]\n",
    "        X_test = X_test.drop(columns=['Fold','grp'])\n",
    "        y_test = y.loc[X_test.index]\n",
    "\n",
    "        X_train = X.drop(X_test.index)\n",
    "        X_train = X_train.drop(columns=['Fold','grp'])\n",
    "        y_train = y.loc[X_train.index]\n",
    "\n",
    "        # Standardize data\n",
    "        # https://towardsdatascience.com/how-data-normalization-affects-your-random-forest-algorithm-fbc6753b4ddf\n",
    "        scaler = StandardScaler()\n",
    "        \n",
    "        X_train_scale = scaler.fit_transform(X_train)\n",
    "        X_test_scale = scaler.transform(X_test)      \n",
    "        y_train_scale = scaler.fit_transform(y_train.values.reshape(-1,1)).ravel()\n",
    "        y_test_scale = scaler.transform(y_test.values.reshape(-1,1)).ravel()\n",
    "        \n",
    "        # Define random forest model\n",
    "        rf = RandomForestRegressor(\n",
    "            n_estimators=int(params['n_estimators']),\n",
    "            max_depth=int(params['max_depth']),\n",
    "            max_features=float(params['max_features']),\n",
    "            max_samples=float(params['max_samples']),\n",
    "            # min_samples_split=int(params['min_samples_split']),\n",
    "            # min_samples_leaf=int(params['min_samples_leaf']),\n",
    "            random_state=int(params['random_state'])\n",
    "        ).fit(X_train_scale , y_train_scale)     \n",
    "        \n",
    "        # Loss function is Mean squared error\n",
    "        loss = np.mean((rf.predict(X_test_scale) - y_test_scale)**2) #Mean squared error\n",
    "        losses.append(loss)\n",
    "    \n",
    "    return {'loss': np.mean(losses), 'status': STATUS_OK}\n",
    "\n",
    "def read_val_from_trials(val):\n",
    "        \"\"\"Helps reading trials\"\"\"\n",
    "        try:\n",
    "            return val[0]\n",
    "        except:\n",
    "            return 0\n",
    "        \n",
    "def trials_to_df(trials):\n",
    "    \"\"\"Convert complex trials dictionary to dataframe\"\"\"\n",
    "    df = pd.DataFrame(index = range(len(trials.trials)), columns = trials.trials[0]['misc']['vals'].keys())\n",
    "    df.loc[:, :] = [[read_val_from_trials(trials.trials[i]['misc']['vals'][k]) for k in trials.trials[i]['misc']['vals'].keys()] for i in range(len(trials.trials))]\n",
    "    df.loc[:, 'loss'] = [trials.trials[i]['result']['loss'] for i in range(len(trials.trials))]\n",
    "\n",
    "    return df"
   ]
  },
  {
   "cell_type": "markdown",
   "id": "68fd4570-fce2-4f46-a3b7-4df8a7d83e7a",
   "metadata": {},
   "source": [
    "## Calculate hyper-parameters"
   ]
  },
  {
   "cell_type": "code",
   "execution_count": null,
   "id": "7a5fe8ef-2d0e-44c9-897e-dcc051402a01",
   "metadata": {},
   "outputs": [
    {
     "data": {
      "application/vnd.jupyter.widget-view+json": {
       "model_id": "81f775a815b249f2b38b20c2ea1f038c",
       "version_major": 2,
       "version_minor": 0
      },
      "text/plain": [
       "  0%|          | 0/300 [00:00<?, ?it/s]"
      ]
     },
     "metadata": {},
     "output_type": "display_data"
    },
    {
     "name": "stdout",
     "output_type": "stream",
     "text": [
      "0.47\r"
     ]
    }
   ],
   "source": [
    "iteration=0\n",
    "# Define progress bar\n",
    "pbar=trange(iteration, evals, initial=iteration, total=evals)\n",
    "\n",
    "\n",
    "for t in pbar:\n",
    "    best = fmin(\n",
    "        fn=train_score_rf,\n",
    "        space=search_space,\n",
    "        max_evals=iteration+1,\n",
    "        algo=partial(tpe.suggest, n_startup_jobs=25),\n",
    "        trials=trials,\n",
    "        verbose=0\n",
    "    )\n",
    "    \n",
    "    trials_df = trials_to_df(trials)\n",
    "    best_loss = trials_df.loss.min()\n",
    "    \n",
    "    iteration+=1\n",
    "    print(np.round(best_loss, decimals=2), end='\\r')\n",
    "    pbar.set_postfix({'Lowest loss': np.round(best_loss, decimals=2)})"
   ]
  },
  {
   "cell_type": "markdown",
   "id": "8de579bd-2080-4204-989f-fbf35f145b00",
   "metadata": {},
   "source": [
    "## Store output"
   ]
  },
  {
   "cell_type": "code",
   "execution_count": null,
   "id": "aa8d99e5-6d33-4f9f-ad53-6710fe841907",
   "metadata": {},
   "outputs": [],
   "source": [
    "# Save output to file\n",
    "trials_df.to_csv(f'{RESULTS}/rf_feature_selection/hyper_parameters/rf_hyperparam_pcrglob_evaporation.csv')\n",
    "trials_df.sort_values('loss').iloc[0]"
   ]
  },
  {
   "cell_type": "code",
   "execution_count": null,
   "id": "acff78f9-a28d-40f9-ab5d-051b144dfe61",
   "metadata": {},
   "outputs": [],
   "source": []
  }
 ],
 "metadata": {
  "kernelspec": {
   "display_name": "Python 3 (ipykernel)",
   "language": "python",
   "name": "python3"
  },
  "language_info": {
   "codemirror_mode": {
    "name": "ipython",
    "version": 3
   },
   "file_extension": ".py",
   "mimetype": "text/x-python",
   "name": "python",
   "nbconvert_exporter": "python",
   "pygments_lexer": "ipython3",
   "version": "3.10.6"
  }
 },
 "nbformat": 4,
 "nbformat_minor": 5
}
