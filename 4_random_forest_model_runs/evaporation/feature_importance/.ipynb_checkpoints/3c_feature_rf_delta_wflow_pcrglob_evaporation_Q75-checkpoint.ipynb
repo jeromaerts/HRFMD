{
 "cells": [
  {
   "cell_type": "markdown",
   "id": "64b916d8-a994-468b-b512-eff1785f711b",
   "metadata": {},
   "source": [
    "# Random Forest feature importance streamflow wflow"
   ]
  },
  {
   "cell_type": "code",
   "execution_count": 1,
   "id": "24364383-7b0a-427f-9366-92f3197104d5",
   "metadata": {},
   "outputs": [],
   "source": [
    "import pandas as pd\n",
    "import numpy as np\n",
    "\n",
    "from sklearn.model_selection import cross_val_score\n",
    "from sklearn.model_selection import train_test_split\n",
    "from sklearn.ensemble import RandomForestRegressor\n",
    "from sklearn.preprocessing import StandardScaler\n",
    "from sklearn.preprocessing import MinMaxScaler\n",
    "from sklearn.model_selection import StratifiedKFold\n",
    "from sklearn.metrics import roc_curve, auc\n",
    "from sklearn.base import clone \n",
    "\n",
    "from scipy.stats import ks_2samp\n",
    "from hyperopt import hp, fmin, tpe, STATUS_OK, Trials\n",
    "from functools import partial\n",
    "from tqdm.notebook import trange, tqdm\n",
    "\n",
    "import matplotlib.pyplot as plt\n",
    "from pathlib import Path"
   ]
  },
  {
   "cell_type": "markdown",
   "id": "cad5072c-b9f6-4d77-94e0-7d6e6abbcfdb",
   "metadata": {},
   "source": [
    "## Set Paths"
   ]
  },
  {
   "cell_type": "code",
   "execution_count": 2,
   "id": "e4b8e42d-9e55-481a-ba00-59af5bc06d4b",
   "metadata": {},
   "outputs": [],
   "source": [
    "# Set paths\n",
    "ROOT = Path('/gpfs/work1/0/wtrcycle/users/jaerts/model_refinement_pub/')\n",
    "RESULTS = f'{ROOT}/results/new/'"
   ]
  },
  {
   "cell_type": "markdown",
   "id": "e9b4382e-6325-447a-b79c-31ff17e3ffe3",
   "metadata": {},
   "source": [
    "## Load Data"
   ]
  },
  {
   "cell_type": "code",
   "execution_count": 3,
   "id": "7d5d8292-962c-4e72-a382-b5eb23a89bfd",
   "metadata": {},
   "outputs": [],
   "source": [
    "# Load Dataframe\n",
    "df = pd.read_csv(f'{RESULTS}/rf_feature_selection/rf_wflow_pcrglob_evaporation_camels_attrs.csv', index_col='basin_id')\n",
    "df['delta'] = df.RRMSE_et_wflow - df.RRMSE_et_pcrglob\n",
    "df = df.dropna()"
   ]
  },
  {
   "cell_type": "code",
   "execution_count": 4,
   "id": "3beb6231-ac4b-4fc6-8f41-5009567a2c34",
   "metadata": {},
   "outputs": [],
   "source": [
    "# Add quantile rank\n",
    "df['QuantileRank']= pd.qcut(df['delta'],\n",
    "                             q = 4, labels = False)\n",
    "df = df.loc[df['QuantileRank'] == 3]\n",
    "df = df.drop(columns=['QuantileRank'])"
   ]
  },
  {
   "cell_type": "markdown",
   "id": "c76bda60-6fc5-4516-9afd-16e7c722542f",
   "metadata": {},
   "source": [
    "## Creat Train and Test set"
   ]
  },
  {
   "cell_type": "code",
   "execution_count": 6,
   "id": "fcc922f4-14de-4070-85f6-7b22bb405cd0",
   "metadata": {},
   "outputs": [
    {
     "name": "stderr",
     "output_type": "stream",
     "text": [
      "/home/jaerts/miniconda3/envs/wflow_state_flux/lib/python3.10/site-packages/sklearn/model_selection/_split.py:700: UserWarning: The least populated class in y has only 1 members, which is less than n_splits=10.\n",
      "  warnings.warn(\n"
     ]
    }
   ],
   "source": [
    "def create_folds(df, variable, n_s=10, n_grp=10):\n",
    "    df = df.reset_index()\n",
    "    df['Fold'] = -1\n",
    "    skf = StratifiedKFold(n_splits=n_s, shuffle=True, random_state=1)\n",
    "    df['grp'] = pd.cut(df[variable], n_grp, labels=False)\n",
    "    target = df.grp\n",
    "    for fold_no, (t, v) in enumerate(skf.split(target, target)):\n",
    "        df.loc[v, 'Fold'] = fold_no\n",
    "    return df\n",
    "\n",
    "# create folds\n",
    "n_groups = 10\n",
    "n_folds = 10\n",
    "\n",
    "df = create_folds(df, variable='delta', n_s=n_folds, n_grp=n_groups)"
   ]
  },
  {
   "cell_type": "code",
   "execution_count": 7,
   "id": "71fac040-ebae-43cc-9d80-403b8df981cc",
   "metadata": {},
   "outputs": [
    {
     "data": {
      "image/png": "[encoded data removed]",
      "text/plain": [
       "<Figure size 1000x400 with 10 Axes>"
      ]
     },
     "metadata": {},
     "output_type": "display_data"
    },
    {
     "name": "stdout",
     "output_type": "stream",
     "text": [
      "Fold 0 vs 1: KstestResult(statistic=0.125, pvalue=0.9998909696588173)\n",
      "Fold 0 vs 2: KstestResult(statistic=0.125, pvalue=0.9998909696588173)\n",
      "Fold 0 vs 3: KstestResult(statistic=0.1875, pvalue=0.9522562797299043)\n",
      "Fold 0 vs 4: KstestResult(statistic=0.125, pvalue=0.9998909696588173)\n",
      "Fold 0 vs 5: KstestResult(statistic=0.25, pvalue=0.7164116566837258)\n",
      "Fold 0 vs 6: KstestResult(statistic=0.1875, pvalue=0.9522562797299043)\n",
      "Fold 0 vs 7: KstestResult(statistic=0.1875, pvalue=0.9522562797299043)\n",
      "Fold 0 vs 8: KstestResult(statistic=0.1875, pvalue=0.9522562797299043)\n",
      "Fold 0 vs 9: KstestResult(statistic=0.20416666666666666, pvalue=0.8337171239274666)\n"
     ]
    }
   ],
   "source": [
    "fig, axs = plt.subplots(1, 10, sharex=True, sharey=True, figsize=(10,4))\n",
    "for i, ax in enumerate(axs):\n",
    "    ax.hist(df[df.Fold == i]['delta'], bins=n_groups, density=True, label=f'Fold-{i}')\n",
    "    if i == 0:\n",
    "        ax.set_ylabel('Frequency')\n",
    "    if i == 2:\n",
    "        ax.set_xlabel(\"Target\")\n",
    "    ax.legend(frameon=False, handlelength=0)\n",
    "plt.tight_layout()\n",
    "plt.show()\n",
    "\n",
    "for fold in np.sort(df.Fold.unique())[1:]:\n",
    "    print(f'Fold 0 vs {fold}:', ks_2samp(df.loc[df.Fold==0,'delta'], df.loc[df.Fold==fold,'delta']))"
   ]
  },
  {
   "cell_type": "markdown",
   "id": "05afa820-fde8-4fc6-a86f-2e4fb6174b9f",
   "metadata": {},
   "source": [
    "## Define Target and Features"
   ]
  },
  {
   "cell_type": "code",
   "execution_count": 8,
   "id": "06418881-a2c5-4a51-a08e-ce8835487ead",
   "metadata": {},
   "outputs": [],
   "source": [
    "X = df.drop(columns=['basin_id', 'RRMSE_et_wflow','RRMSE_et_pcrglob','delta'])\n",
    "y = df['delta']"
   ]
  },
  {
   "cell_type": "markdown",
   "id": "69bff2ba-979b-4b35-9634-46b49d6c024b",
   "metadata": {},
   "source": [
    "## Load Hyper Parameters"
   ]
  },
  {
   "cell_type": "code",
   "execution_count": 9,
   "id": "82f66fb3-c46e-4bbc-a85e-beed76d6ec1c",
   "metadata": {},
   "outputs": [
    {
     "data": {
      "text/plain": [
       "Unnamed: 0      271.000000\n",
       "max_depth         4.000000\n",
       "max_features      0.400000\n",
       "max_samples       1.000000\n",
       "n_estimators     50.000000\n",
       "random_state    500.000000\n",
       "loss              0.241994\n",
       "Name: 271, dtype: float64"
      ]
     },
     "execution_count": 9,
     "metadata": {},
     "output_type": "execute_result"
    }
   ],
   "source": [
    "trials_df = pd.read_csv(f'{RESULTS}/rf_feature_selection/hyper_parameters/rf_hyperparam_delta_wp_evaporation_Q75.csv')\n",
    "trials_df.sort_values('loss').iloc[0]"
   ]
  },
  {
   "cell_type": "markdown",
   "id": "9ce6497e-8e45-4db7-9ad2-6a4f94f0a832",
   "metadata": {},
   "source": [
    "## Select best hyper parameters and create model"
   ]
  },
  {
   "cell_type": "code",
   "execution_count": 10,
   "id": "e1e69875-c7e8-4d1b-8425-df763c5af236",
   "metadata": {},
   "outputs": [],
   "source": [
    "rf = RandomForestRegressor(\n",
    "    n_estimators=int(trials_df.sort_values('loss').iloc[0].n_estimators),\n",
    "    max_depth=int(trials_df.sort_values('loss').iloc[0].max_depth),\n",
    "    max_features=float(trials_df.sort_values('loss').iloc[0].max_features),\n",
    "    max_samples=float(trials_df.sort_values('loss').iloc[0].max_samples),\n",
    "    random_state=int(trials_df.sort_values('loss').iloc[0].random_state),\n",
    "    n_jobs=10)"
   ]
  },
  {
   "cell_type": "markdown",
   "id": "9474df63-84ed-4808-bc80-3c52f91ed210",
   "metadata": {},
   "source": [
    "# Drop column feature importance"
   ]
  },
  {
   "cell_type": "markdown",
   "id": "dc3ca497-0d31-4cf4-9d3e-284984e72955",
   "metadata": {},
   "source": [
    "## Complete dataset standardized Train only"
   ]
  },
  {
   "cell_type": "code",
   "execution_count": 12,
   "id": "e87f4a4e-784e-4f88-a84b-d98c127f669f",
   "metadata": {},
   "outputs": [],
   "source": [
    "def imp_df(folds, features, importances,benchmark_scores):\n",
    "    data = {\n",
    "        'Fold' : folds,\n",
    "        'Feature': features,\n",
    "        'Importance': importances,\n",
    "        'Benchmark Score': benchmark_scores\n",
    "    }\n",
    "    df = pd.DataFrame(data) \\\n",
    "        .set_index('Feature') \\\n",
    "        .sort_values('Importance', ascending=False)\n",
    "\n",
    "    return df\n",
    "\n",
    "def drop_col_feat_imp(model, X, y):\n",
    "    # drop column feature importance\n",
    "    # https://towardsdatascience.com/explaining-feature-importance-by-example-of-a-random-forest-d9166011959e\n",
    "    \n",
    "    # list for storing feature importances\n",
    "    folds = []\n",
    "    features = []\n",
    "    benchmark_scores = []\n",
    "    importances = []\n",
    "        \n",
    "    # Loop folds, leave 1 out\n",
    "    losses = []\n",
    "    for k in range(n_folds):\n",
    "        X_test = X.loc[X.Fold==k]\n",
    "        X_test = X_test.drop(columns=['Fold','grp'])\n",
    "\n",
    "        y_test = y.loc[X_test.index]\n",
    "\n",
    "        X_train = X.drop(X_test.index)\n",
    "        X_train = X_train.drop(columns=['Fold','grp'])\n",
    "\n",
    "        y_train = y.loc[X_train.index]\n",
    "        \n",
    "        # Standardize data\n",
    "        # https://towardsdatascience.com/how-data-normalization-affects-your-random-forest-algorithm-fbc6753b4ddf\n",
    "        scaler = StandardScaler()\n",
    "        X_train_scale = scaler.fit_transform(X_train)\n",
    "        X_test_scale = scaler.transform(X_test)\n",
    "        \n",
    "        y_train_scale = scaler.fit_transform(y_train.values.reshape(-1,1)).ravel()\n",
    "        y_test_scale = scaler.transform(y_test.values.reshape(-1,1)).ravel()\n",
    "        \n",
    "        # Clone model \n",
    "        model_clone = clone(model)\n",
    "        \n",
    "        # Fit the model on the training dataset and calculate the benchmark score \n",
    "        model_clone.fit(X_train_scale, y_train_scale)\n",
    "        benchmark_score = model_clone.score(X_test_scale, y_test_scale)\n",
    "        print(f'Fold {k+1}: Benchmark Score: {benchmark_score}')\n",
    "        \n",
    "        # iterating over all columns and storing feature importance (difference between benchmark and new model)\n",
    "        for i, col in enumerate(X_train.columns):\n",
    "            print(f'Fold {k+1}: {i} of {len(X_train.columns)} columns', end='\\r')\n",
    "\n",
    "            # Clone model\n",
    "            model_clone_drop = clone(model)\n",
    "\n",
    "            # Drop column\n",
    "            X_train_drop = X_train.drop(col, axis = 1)\n",
    "            X_test_drop = X_test.drop(col, axis = 1)\n",
    "\n",
    "            # Standardize data\n",
    "            scaler = StandardScaler()\n",
    "            X_train_scale = scaler.fit_transform(X_train_drop)\n",
    "            X_test_scale = scaler.transform(X_test_drop)\n",
    "\n",
    "            # Train model\n",
    "            model_clone.fit(X_train_scale, y_train_scale)\n",
    "\n",
    "            # Calculate score\n",
    "            drop_col_score = model_clone.score(X_test_scale, y_test_scale)\n",
    "\n",
    "            # Append importance\n",
    "            folds.append(k)\n",
    "            features.append(col)\n",
    "            benchmark_scores.append(benchmark_score)\n",
    "            importances.append(benchmark_score - drop_col_score)\n",
    "            \n",
    "    # Create output dataframe\n",
    "    importances_df = imp_df(folds, features, importances, benchmark_scores)        \n",
    "     \n",
    "    return importances_df"
   ]
  },
  {
   "cell_type": "code",
   "execution_count": null,
   "id": "2a1f7936-b8de-445c-8942-a26468938971",
   "metadata": {},
   "outputs": [
    {
     "name": "stdout",
     "output_type": "stream",
     "text": [
      "Fold 1: Benchmark Score: 0.8739926996742768\n",
      "Fold 1: 29 of 59 columns\r"
     ]
    }
   ],
   "source": [
    "importances_df = drop_col_feat_imp(rf, X, y)\n",
    "importances_df.to_csv(f'{RESULTS}/rf_feature_selection/feature_importance/fold_feature_importance_rf_delta_wp_evaporation_Q75.csv')\n",
    "importances_df = importances_df.drop(columns=['Fold'])\n",
    "importances_df = importances_df.groupby(importances_df.index).mean()\n",
    "importances_df.to_csv(f'{RESULTS}/rf_feature_selection/feature_importance/feature_importance_rf_delta_wp_evaporation_Q75.csv')"
   ]
  },
  {
   "cell_type": "code",
   "execution_count": null,
   "id": "1afbd627-f4c9-40aa-963d-6e399c0293e5",
   "metadata": {},
   "outputs": [],
   "source": [
    "importances_df = importances_df.drop(columns=['Benchmark Score'])\n",
    "importances_df.sort_values(by=['Importance'], ascending=True).plot(kind='barh', figsize=(20, 20)).set(xlabel=\"Drop Column Importance Score\")\n",
    "plt.savefig(\"/gpfs/home6/jaerts/model_refinement_master/temp/evaporation_delta_Q75.png\")"
   ]
  },
  {
   "cell_type": "code",
   "execution_count": null,
   "id": "09e06ae9-ec06-4b4e-8772-fa90479c6056",
   "metadata": {},
   "outputs": [],
   "source": []
  },
  {
   "cell_type": "code",
   "execution_count": null,
   "id": "cc367121-3dcb-4a3b-884c-5b54c96ddf05",
   "metadata": {},
   "outputs": [],
   "source": []
  }
 ],
 "metadata": {
  "kernelspec": {
   "display_name": "Python 3 (ipykernel)",
   "language": "python",
   "name": "python3"
  },
  "language_info": {
   "codemirror_mode": {
    "name": "ipython",
    "version": 3
   },
   "file_extension": ".py",
   "mimetype": "text/x-python",
   "name": "python",
   "nbconvert_exporter": "python",
   "pygments_lexer": "ipython3",
   "version": "3.10.6"
  }
 },
 "nbformat": 4,
 "nbformat_minor": 5
}
