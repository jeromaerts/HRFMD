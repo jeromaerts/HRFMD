{
 "cells": [
  {
   "cell_type": "markdown",
   "id": "561a9345-0f6f-48c8-988c-98cba7e3a650",
   "metadata": {},
   "source": [
    "# pcr-globwb reference evaporation analysis"
   ]
  },
  {
   "cell_type": "code",
   "execution_count": 2,
   "id": "811a3d6f-643f-4b96-921d-8b89f88e9782",
   "metadata": {},
   "outputs": [],
   "source": [
    "import xarray as xr\n",
    "import numpy as np\n",
    "import pandas as pd\n",
    "\n",
    "from pathlib import Path\n",
    "from glob import glob"
   ]
  },
  {
   "cell_type": "markdown",
   "id": "853e5665-ea01-41c1-a34e-a9f15d26d84f",
   "metadata": {},
   "source": [
    "RRMSE: https://www.analyticsvidhya.com/blog/2021/10/evaluation-metric-for-regression-models/"
   ]
  },
  {
   "cell_type": "markdown",
   "id": "d6d6c01a-d535-43a2-91fd-1bc6fa7ac28d",
   "metadata": {},
   "source": [
    "## Set Paths"
   ]
  },
  {
   "cell_type": "code",
   "execution_count": 3,
   "id": "1b9378d9-d4ce-4a27-9a3f-5fba5beace26",
   "metadata": {},
   "outputs": [],
   "source": [
    "# Set Paths\n",
    "ROOT = Path('/gpfs/work1/0/wtrcycle/users/jaerts/model_refinement_pub/')\n",
    "AUXDIR = Path(f\"{ROOT}/aux_data/\")\n",
    "OBSDIR = Path(f\"{ROOT}/observations/\")\n",
    "MODELS = Path(f'{ROOT}/model_parameters/pcr-globwb/')\n",
    "RESULTS = Path(f'{ROOT}/results/')"
   ]
  },
  {
   "cell_type": "markdown",
   "id": "ac0870c3-0177-48e7-a716-e46f91120726",
   "metadata": {},
   "source": [
    "## Config"
   ]
  },
  {
   "cell_type": "code",
   "execution_count": 4,
   "id": "5a9a699b-ad6a-4dab-bd60-5bbfb22b1869",
   "metadata": {},
   "outputs": [],
   "source": [
    "# Get available basin IDs wflow_sbm\n",
    "calibration_file = f\"{RESULTS}/streamflow_evaluation/wflow_sbm_calibration/wflow_calibration_objective_function_overview.csv\"\n",
    "df = pd.read_csv(calibration_file, index_col='basin_id')\n",
    "basin_ids = df.index.to_list()\n",
    "\n",
    "# Amount of available cores\n",
    "cores_available = 1\n",
    "\n",
    "# Period (drop first year)\n",
    "start_date = '2008-10-01'\n",
    "end_date   = '2015-09-30'"
   ]
  },
  {
   "cell_type": "markdown",
   "id": "7db47b55-2c35-413d-a6e9-1127bb6f8e58",
   "metadata": {},
   "source": [
    "## RRMSE function"
   ]
  },
  {
   "cell_type": "code",
   "execution_count": 5,
   "id": "64d4a0db-39b7-422e-bb91-5de211bdf611",
   "metadata": {},
   "outputs": [],
   "source": [
    "def RRMSE(obs,sim):\n",
    "    MSE  = np.square(np.subtract(obs,sim)).mean() \n",
    "    RMSE = np.sqrt(MSE)\n",
    "    std_obs = np.std(obs)\n",
    "    RRMSE = (RMSE/std_obs)\n",
    "    \n",
    "    return RRMSE"
   ]
  },
  {
   "cell_type": "markdown",
   "id": "4dddf6c1-3d75-489b-b2cb-2c35e2e7084e",
   "metadata": {},
   "source": [
    "## Calculate RRMSE evaporation timeseries"
   ]
  },
  {
   "cell_type": "code",
   "execution_count": 7,
   "id": "ba0812ff-6ca7-4f37-9ec3-a5b5571aa68a",
   "metadata": {
    "tags": []
   },
   "outputs": [
    {
     "name": "stdout",
     "output_type": "stream",
     "text": [
      "645\r"
     ]
    }
   ],
   "source": [
    "# Create empty dataframe and list\n",
    "df = pd.DataFrame()\n",
    "objective_function_values = []\n",
    "\n",
    "# Loop basin IDs\n",
    "for i, basin_id in enumerate(basin_ids):\n",
    "    print(i, end=\"\\r\")\n",
    "    # Load reference evaporation\n",
    "    ds_obs = xr.open_dataset(f'{OBSDIR}/evaporation/regridded_FLUXCOM/{basin_id}_FLUXCOM_evaporation_ref_2008_2015.nc')\n",
    "    ds_obs = ds_obs.LE\n",
    "    df_obs = ds_obs.to_dataframe()\n",
    "\n",
    "    # Load wflow_sbm evaporation\n",
    "    ds_sim = xr.open_dataset(f'{RESULTS}/evaporation_evaluation/regridded_pcr-globwb_evaporation/{basin_id}_pcr-globwb_et_2008_2015.nc')\n",
    "    ds_sim = ds_sim.total_evaporation\n",
    "    df_sim = ds_sim.to_dataframe()\n",
    "    \n",
    "    # Create empty list to store water years\n",
    "    objectives = []\n",
    "\n",
    "    # Calculate objective function for each water year and take average\n",
    "    years = list(range(int(start_date[:4]), int(end_date[:4])))\n",
    "    for year in years:\n",
    "        start_year = f'{year}-10-01'\n",
    "        end_year = f'{year+1}-09-30'\n",
    "\n",
    "        # Select water year\n",
    "        mask = (df_sim.index >= start_year) & (df_sim.index <= end_year)\n",
    "        df_sim_year = df_sim.loc[mask]\n",
    "        mask = (df_obs.index >= start_year) & (df_obs.index <= end_year)\n",
    "        df_obs_year = df_obs.loc[mask]\n",
    "\n",
    "        # Calculate objective function\n",
    "        objective_function = RRMSE(df_obs_year.values, df_sim_year.values)\n",
    "        objectives.append(objective_function)\n",
    "    \n",
    "    \n",
    "    # Calculate and append average objective function of water years\n",
    "    objective_function_values.append(np.average(objectives))\n",
    "\n",
    "df['basin_id'] = basin_ids\n",
    "df['RRMSE_et_pcrglob'] = objective_function_values\n",
    "df.to_csv(f'{RESULTS}/evaporation_evaluation/pcr-globwb_RRMSE_et_2008_2015.csv')"
   ]
  },
  {
   "cell_type": "code",
   "execution_count": 8,
   "id": "14044acd-e116-450b-99ca-72d8ac65832b",
   "metadata": {},
   "outputs": [
    {
     "data": {
      "text/html": [
       "<div>\n",
       "<style scoped>\n",
       "    .dataframe tbody tr th:only-of-type {\n",
       "        vertical-align: middle;\n",
       "    }\n",
       "\n",
       "    .dataframe tbody tr th {\n",
       "        vertical-align: top;\n",
       "    }\n",
       "\n",
       "    .dataframe thead th {\n",
       "        text-align: right;\n",
       "    }\n",
       "</style>\n",
       "<table border=\"1\" class=\"dataframe\">\n",
       "  <thead>\n",
       "    <tr style=\"text-align: right;\">\n",
       "      <th></th>\n",
       "      <th>basin_id</th>\n",
       "      <th>RRMSE_et_pcrglob</th>\n",
       "    </tr>\n",
       "  </thead>\n",
       "  <tbody>\n",
       "    <tr>\n",
       "      <th>0</th>\n",
       "      <td>10003</td>\n",
       "      <td>0.346505</td>\n",
       "    </tr>\n",
       "    <tr>\n",
       "      <th>1</th>\n",
       "      <td>1001</td>\n",
       "      <td>0.379249</td>\n",
       "    </tr>\n",
       "    <tr>\n",
       "      <th>2</th>\n",
       "      <td>101002</td>\n",
       "      <td>0.524046</td>\n",
       "    </tr>\n",
       "    <tr>\n",
       "      <th>3</th>\n",
       "      <td>101005</td>\n",
       "      <td>0.542271</td>\n",
       "    </tr>\n",
       "    <tr>\n",
       "      <th>4</th>\n",
       "      <td>102001</td>\n",
       "      <td>0.478924</td>\n",
       "    </tr>\n",
       "    <tr>\n",
       "      <th>...</th>\n",
       "      <td>...</td>\n",
       "      <td>...</td>\n",
       "    </tr>\n",
       "    <tr>\n",
       "      <th>641</th>\n",
       "      <td>95001</td>\n",
       "      <td>0.382638</td>\n",
       "    </tr>\n",
       "    <tr>\n",
       "      <th>642</th>\n",
       "      <td>96001</td>\n",
       "      <td>0.491630</td>\n",
       "    </tr>\n",
       "    <tr>\n",
       "      <th>643</th>\n",
       "      <td>96002</td>\n",
       "      <td>0.562674</td>\n",
       "    </tr>\n",
       "    <tr>\n",
       "      <th>644</th>\n",
       "      <td>96004</td>\n",
       "      <td>0.464677</td>\n",
       "    </tr>\n",
       "    <tr>\n",
       "      <th>645</th>\n",
       "      <td>97002</td>\n",
       "      <td>0.442785</td>\n",
       "    </tr>\n",
       "  </tbody>\n",
       "</table>\n",
       "<p>646 rows × 2 columns</p>\n",
       "</div>"
      ],
      "text/plain": [
       "     basin_id  RRMSE_et_pcrglob\n",
       "0       10003          0.346505\n",
       "1        1001          0.379249\n",
       "2      101002          0.524046\n",
       "3      101005          0.542271\n",
       "4      102001          0.478924\n",
       "..        ...               ...\n",
       "641     95001          0.382638\n",
       "642     96001          0.491630\n",
       "643     96002          0.562674\n",
       "644     96004          0.464677\n",
       "645     97002          0.442785\n",
       "\n",
       "[646 rows x 2 columns]"
      ]
     },
     "execution_count": 8,
     "metadata": {},
     "output_type": "execute_result"
    }
   ],
   "source": [
    "df"
   ]
  },
  {
   "cell_type": "code",
   "execution_count": null,
   "id": "d7783b51-e8a3-489c-aeb5-7c91fc81f200",
   "metadata": {},
   "outputs": [],
   "source": []
  }
 ],
 "metadata": {
  "kernelspec": {
   "display_name": "Python 3 (ipykernel)",
   "language": "python",
   "name": "python3"
  },
  "language_info": {
   "codemirror_mode": {
    "name": "ipython",
    "version": 3
   },
   "file_extension": ".py",
   "mimetype": "text/x-python",
   "name": "python",
   "nbconvert_exporter": "python",
   "pygments_lexer": "ipython3",
   "version": "3.10.6"
  }
 },
 "nbformat": 4,
 "nbformat_minor": 5
}
