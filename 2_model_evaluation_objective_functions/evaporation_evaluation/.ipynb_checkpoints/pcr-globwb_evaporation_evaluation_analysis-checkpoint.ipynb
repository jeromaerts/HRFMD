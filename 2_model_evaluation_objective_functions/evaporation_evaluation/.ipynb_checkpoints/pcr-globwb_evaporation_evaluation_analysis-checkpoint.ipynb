{
 "cells": [
  {
   "cell_type": "markdown",
   "id": "561a9345-0f6f-48c8-988c-98cba7e3a650",
   "metadata": {},
   "source": [
    "# pcr-globwb reference evaporation analysis"
   ]
  },
  {
   "cell_type": "code",
   "execution_count": 1,
   "id": "811a3d6f-643f-4b96-921d-8b89f88e9782",
   "metadata": {},
   "outputs": [],
   "source": [
    "import xarray as xr\n",
    "import numpy as np\n",
    "import pandas as pd\n",
    "\n",
    "from pathlib import Path\n",
    "from glob import glob"
   ]
  },
  {
   "cell_type": "markdown",
   "id": "853e5665-ea01-41c1-a34e-a9f15d26d84f",
   "metadata": {},
   "source": [
    "RRMSE: https://www.analyticsvidhya.com/blog/2021/10/evaluation-metric-for-regression-models/"
   ]
  },
  {
   "cell_type": "markdown",
   "id": "d6d6c01a-d535-43a2-91fd-1bc6fa7ac28d",
   "metadata": {},
   "source": [
    "## Set Paths"
   ]
  },
  {
   "cell_type": "code",
   "execution_count": 2,
   "id": "1b9378d9-d4ce-4a27-9a3f-5fba5beace26",
   "metadata": {},
   "outputs": [],
   "source": [
    "# Set Paths\n",
    "ROOT = Path('/gpfs/work1/0/wtrcycle/users/jaerts/model_refinement_pub/')\n",
    "AUXDIR = Path(f\"{ROOT}/aux_data/\")\n",
    "OBSDIR = Path(f\"{ROOT}/observations/\")\n",
    "MODELS = Path(f'{ROOT}/model_parameters/pcr-globwb/')\n",
    "RESULTS = Path(f'{ROOT}/results/')"
   ]
  },
  {
   "cell_type": "markdown",
   "id": "ac0870c3-0177-48e7-a716-e46f91120726",
   "metadata": {},
   "source": [
    "## Config"
   ]
  },
  {
   "cell_type": "code",
   "execution_count": 3,
   "id": "5a9a699b-ad6a-4dab-bd60-5bbfb22b1869",
   "metadata": {},
   "outputs": [],
   "source": [
    "# Get available basin IDs wflow_sbm\n",
    "basin_dirs = glob(f'{MODELS}/*')\n",
    "basin_ids = [s.split('/')[-1] for s in basin_dirs]\n",
    "basin_ids.sort()\n",
    "\n",
    "# Amount of available cores\n",
    "cores_available = 30\n",
    "\n",
    "# Period (drop first year)\n",
    "start_date = '2008-10-01'\n",
    "end_date   = '2015-09-30'"
   ]
  },
  {
   "cell_type": "markdown",
   "id": "7db47b55-2c35-413d-a6e9-1127bb6f8e58",
   "metadata": {},
   "source": [
    "## RRMSE function"
   ]
  },
  {
   "cell_type": "code",
   "execution_count": 4,
   "id": "64d4a0db-39b7-422e-bb91-5de211bdf611",
   "metadata": {},
   "outputs": [],
   "source": [
    "def RRMSE(obs,sim):\n",
    "    MSE  = np.square(np.subtract(obs,sim)).mean() \n",
    "    RMSE = np.sqrt(MSE)\n",
    "    std_obs = np.std(obs)\n",
    "    RRMSE = (RMSE/std_obs)\n",
    "    \n",
    "    return RRMSE"
   ]
  },
  {
   "cell_type": "markdown",
   "id": "4dddf6c1-3d75-489b-b2cb-2c35e2e7084e",
   "metadata": {},
   "source": [
    "## Calculate RRMSE evaporation timeseries"
   ]
  },
  {
   "cell_type": "code",
   "execution_count": 6,
   "id": "ba0812ff-6ca7-4f37-9ec3-a5b5571aa68a",
   "metadata": {
    "collapsed": true,
    "jupyter": {
     "outputs_hidden": true
    },
    "tags": []
   },
   "outputs": [
    {
     "name": "stdout",
     "output_type": "stream",
     "text": [
      "2008\n",
      "2009\n",
      "2010\n",
      "2011\n",
      "2012\n",
      "2013\n",
      "2014\n"
     ]
    }
   ],
   "source": [
    "# Create empty dataframe and list\n",
    "df = pd.DataFrame()\n",
    "objective_function_values = []\n",
    "\n",
    "# Loop basin IDs\n",
    "for basin_id in basin_ids:\n",
    "\n",
    "    # Load reference evaporation\n",
    "    ds_obs = xr.open_dataset(f'{OBSDIR}/evaporation/regridded_FLUXCOM/{basin_id}_FLUXCOM_evaporation_ref_2008_2015.nc')\n",
    "    ds_obs = ds_obs.LE\n",
    "    df_obs = ds_obs.to_dataframe()\n",
    "\n",
    "    # Load wflow_sbm evaporation\n",
    "    ds_sim = xr.open_dataset(f'{RESULTS}/evaporation_evaluation/regridded_pcr-globwb_evaporation/{basin_id}_pcr-globwb_et_2008_2015.nc')\n",
    "    ds_sim = ds_sim.total_evaporation\n",
    "    df_sim = ds_sim.to_dataframe()\n",
    "    \n",
    "    # Create empty list to store water years\n",
    "    objectives = []\n",
    "\n",
    "    # Calculate objective function for each water year and take average\n",
    "    years = list(range(int(start_date[:4]), int(end_date[:4])))\n",
    "    for year in years:\n",
    "        print(year)\n",
    "        start_year = f'{year}-10-01'\n",
    "        end_year = f'{year+1}-09-30'\n",
    "\n",
    "        # Select water year\n",
    "        mask = (df_sim.index >= start_year) & (df_sim.index <= end_year)\n",
    "        df_sim_year = df_sim.loc[mask]\n",
    "        mask = (df_obs.index >= start_year) & (df_obs.index <= end_year)\n",
    "        df_obs_year = df_obs.loc[mask]\n",
    "\n",
    "        # Calculate objective function\n",
    "        objective_function = RRMSE(df_obs_year.values, df_sim_year.values)\n",
    "        objectives.append(objective_function)\n",
    "    \n",
    "    \n",
    "    # Calculate and append average objective function of water years\n",
    "    objective_function_values.append(np.average(objectives))\n",
    "\n",
    "df['basin_id'] = basin_ids\n",
    "df['RRMSE_et_pcrglob'] = objective_function_values\n",
    "df.to_csv(f'{RESULTS}/evaporation_evaluation/pcr-globwb_RRMSE_et_2008_2015.csv')"
   ]
  }
 ],
 "metadata": {
  "kernelspec": {
   "display_name": "Python 3 (ipykernel)",
   "language": "python",
   "name": "python3"
  },
  "language_info": {
   "codemirror_mode": {
    "name": "ipython",
    "version": 3
   },
   "file_extension": ".py",
   "mimetype": "text/x-python",
   "name": "python",
   "nbconvert_exporter": "python",
   "pygments_lexer": "ipython3",
   "version": "3.10.6"
  }
 },
 "nbformat": 4,
 "nbformat_minor": 5
}
