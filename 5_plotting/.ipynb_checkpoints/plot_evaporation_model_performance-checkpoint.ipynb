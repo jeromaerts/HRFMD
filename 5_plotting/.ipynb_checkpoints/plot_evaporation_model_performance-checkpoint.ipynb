{
 "cells": [
  {
   "cell_type": "markdown",
   "id": "c53ff51d-f36b-4bd0-851f-613b77d1f910",
   "metadata": {},
   "source": [
    "# Plot spatial and boxplot streamflow results"
   ]
  },
  {
   "cell_type": "code",
   "execution_count": 1,
   "id": "b367aa4e-95cb-461f-9253-169ff78e37ec",
   "metadata": {},
   "outputs": [],
   "source": [
    "import geopandas as gpd\n",
    "import pandas as pd\n",
    "import numpy as np\n",
    "\n",
    "import string\n",
    "import cartopy\n",
    "import cartopy.crs as ccrs\n",
    "import seaborn as sns\n",
    "import matplotlib\n",
    "import matplotlib.gridspec as gridspec\n",
    "import matplotlib.pyplot as plt\n",
    "\n",
    "from pathlib import Path\n",
    "from glob import glob"
   ]
  },
  {
   "cell_type": "markdown",
   "id": "1687cb28-c932-4aff-bbea-4db0da0f6994",
   "metadata": {},
   "source": [
    "## Set Paths"
   ]
  },
  {
   "cell_type": "code",
   "execution_count": 2,
   "id": "c96a1221-c14b-4b95-ac61-7bba8dff00d8",
   "metadata": {},
   "outputs": [],
   "source": [
    "# Set paths\n",
    "ROOT = Path('/gpfs/work1/0/wtrcycle/users/jaerts/model_refinement_pub/')\n",
    "RESULTS = f'{ROOT}/results/'\n",
    "AUXDIR = f'{ROOT}/aux_data/'"
   ]
  },
  {
   "cell_type": "markdown",
   "id": "73b9c9e6-aa5a-433f-a975-3b2c2054d3b9",
   "metadata": {},
   "source": [
    "## Set config"
   ]
  },
  {
   "cell_type": "code",
   "execution_count": 3,
   "id": "1bddf0df-2c45-4e7f-a59e-6e877dccbcca",
   "metadata": {},
   "outputs": [],
   "source": [
    "# Set Files\n",
    "basins_shp = f\"{AUXDIR}/camels-gb/CAMELS_GB_catchment_boundaries/CAMELS_GB_catchment_boundaries.shp\"\n",
    "results_csv = f\"{RESULTS}/rf_feature_selection/rf_wflow_pcrglob_evaporation_camels_hydro_attrs.csv\""
   ]
  },
  {
   "cell_type": "markdown",
   "id": "338045d9-9b52-4cc0-b079-aa0fd805b8d7",
   "metadata": {},
   "source": [
    "## Load basin shapefiles"
   ]
  },
  {
   "cell_type": "code",
   "execution_count": 4,
   "id": "e095c7ee-7239-4f97-8942-b160e1d596a9",
   "metadata": {},
   "outputs": [
    {
     "name": "stderr",
     "output_type": "stream",
     "text": [
      "/home/jaerts/miniconda3/envs/wflow_state_flux/lib/python3.10/site-packages/pyproj/crs/crs.py:141: FutureWarning: '+init=<authority>:<code>' syntax is deprecated. '<authority>:<code>' is the preferred initialization method. When making the change, be mindful of axis order changes: https://pyproj4.github.io/pyproj/stable/gotchas.html#axis-order-changes-in-proj-6\n",
      "  in_crs_string = _prepare_from_proj_string(in_crs_string)\n",
      "/scratch-local/jaerts.4291379/ipykernel_2295514/1606819374.py:8: UserWarning: Geometry is in a geographic CRS. Results from 'centroid' are likely incorrect. Use 'GeoSeries.to_crs()' to re-project geometries to a projected CRS before this operation.\n",
      "\n",
      "  gdf['centroid'] = gdf.centroid.to_crs(\"EPSG:4326\")\n"
     ]
    }
   ],
   "source": [
    "# Read shapefile\n",
    "gdf = gpd.read_file(basins_shp)\n",
    "gdf = gdf.set_index('ID_STRING')\n",
    "gdf.index = gdf.index.astype(int)\n",
    "\n",
    "# Reproject shapefile\n",
    "gdf = gdf.to_crs({'init':'epsg:4326'})\n",
    "gdf['centroid'] = gdf.centroid.to_crs(\"EPSG:4326\")"
   ]
  },
  {
   "cell_type": "markdown",
   "id": "6f4bf784-2b57-4659-9401-f9c1fdb3462a",
   "metadata": {},
   "source": [
    "## Load and merge model results"
   ]
  },
  {
   "cell_type": "code",
   "execution_count": 5,
   "id": "d9d26be3-3617-4bc1-a8aa-c960d5a60bf6",
   "metadata": {},
   "outputs": [],
   "source": [
    "# Load results dataframe\n",
    "df = pd.read_csv(results_csv, index_col='basin_id')\n",
    "\n",
    "# Merge results and shapefile\n",
    "gdf_results = gdf.merge(df, left_index=True, right_index=True, how=\"inner\")\n",
    "gdf_results = gdf_results.set_geometry(\"centroid\")"
   ]
  },
  {
   "cell_type": "markdown",
   "id": "f2f98d7d-5a36-4b8e-a86e-f3530874c35e",
   "metadata": {},
   "source": [
    "## Calculate delta results"
   ]
  },
  {
   "cell_type": "code",
   "execution_count": 6,
   "id": "97e35d12-65ad-4d92-9cc4-dac8117910a8",
   "metadata": {},
   "outputs": [],
   "source": [
    "gdf_results['RRMSE_et_delta_wp'] = gdf_results['RRMSE_et_wflow'] - gdf_results['RRMSE_et_pcrglob']\n",
    "gdf_results['RRMSE_et_delta_pw'] = gdf_results['RRMSE_et_pcrglob'] - gdf_results['RRMSE_et_wflow']"
   ]
  },
  {
   "cell_type": "markdown",
   "id": "3daf4709-b5a3-4fc6-b981-403003370221",
   "metadata": {},
   "source": [
    "## Calculate CDF and include Quantiles"
   ]
  },
  {
   "cell_type": "code",
   "execution_count": 7,
   "id": "dbd048b1-e03a-4a5e-92a5-2d82436a2a4a",
   "metadata": {
    "tags": []
   },
   "outputs": [],
   "source": [
    "# Add quantile rank\n",
    "gdf_results['QuantileRank_wflow']= pd.qcut(gdf_results['RRMSE_et_wflow'],\n",
    "                                             q = 4, labels = False)\n",
    "gdf_results['QuantileRank_pcrglob']= pd.qcut(gdf_results['RRMSE_et_pcrglob'],\n",
    "                                             q = 4, labels = False)\n",
    "gdf_results['QuantileRank_delta']= pd.qcut(gdf_results['RRMSE_et_delta_wp'],\n",
    "                                             q = 4, labels = False)\n",
    "\n",
    "N = len(gdf_results)\n",
    "x_wflow = np.sort(gdf_results['RRMSE_et_wflow'].values)\n",
    "y_wflow = np.arange(N) / float(N)\n",
    "\n",
    "x_pcrglob = np.sort(gdf_results['RRMSE_et_pcrglob'].values)\n",
    "y_pcrglob = np.arange(N) / float(N)\n",
    "\n",
    "x_delta = np.sort(gdf_results['RRMSE_et_delta_wp'].values)\n",
    "y_delta = np.arange(N) / float(N)\n",
    "\n",
    "Q25_wflow_min = gdf_results.loc[gdf_results['QuantileRank_wflow'] == 0]['RRMSE_et_wflow'].min()\n",
    "Q25_wflow_max = gdf_results.loc[gdf_results['QuantileRank_wflow'] == 0]['RRMSE_et_wflow'].max()\n",
    "\n",
    "Q50_wflow_min = gdf_results.loc[gdf_results['QuantileRank_wflow'] == 1]['RRMSE_et_wflow'].min()\n",
    "Q50_wflow_max = gdf_results.loc[gdf_results['QuantileRank_wflow'] == 1]['RRMSE_et_wflow'].max()\n",
    "\n",
    "Q75_wflow_min = gdf_results.loc[gdf_results['QuantileRank_wflow'] == 2]['RRMSE_et_wflow'].min()\n",
    "Q75_wflow_max = gdf_results.loc[gdf_results['QuantileRank_wflow'] == 2]['RRMSE_et_wflow'].max()\n",
    "\n",
    "Q100_wflow_min = gdf_results.loc[gdf_results['QuantileRank_wflow'] == 3]['RRMSE_et_wflow'].min()\n",
    "Q100_wflow_max = gdf_results.loc[gdf_results['QuantileRank_wflow'] == 3]['RRMSE_et_wflow'].max()\n",
    "\n",
    "\n",
    "Q25_pcrglob_min = gdf_results.loc[gdf_results['QuantileRank_pcrglob'] == 0]['RRMSE_et_pcrglob'].min()\n",
    "Q25_pcrglob_max = gdf_results.loc[gdf_results['QuantileRank_pcrglob'] == 0]['RRMSE_et_pcrglob'].max()\n",
    "\n",
    "Q50_pcrglob_min = gdf_results.loc[gdf_results['QuantileRank_pcrglob'] == 1]['RRMSE_et_pcrglob'].min()\n",
    "Q50_pcrglob_max = gdf_results.loc[gdf_results['QuantileRank_pcrglob'] == 1]['RRMSE_et_pcrglob'].max()\n",
    "\n",
    "Q75_pcrglob_min = gdf_results.loc[gdf_results['QuantileRank_pcrglob'] == 2]['RRMSE_et_pcrglob'].min()\n",
    "Q75_pcrglob_max = gdf_results.loc[gdf_results['QuantileRank_pcrglob'] == 2]['RRMSE_et_pcrglob'].max()\n",
    "\n",
    "Q100_pcrglob_min = gdf_results.loc[gdf_results['QuantileRank_pcrglob'] == 3]['RRMSE_et_pcrglob'].min()\n",
    "Q100_pcrglob_max = gdf_results.loc[gdf_results['QuantileRank_pcrglob'] == 3]['RRMSE_et_pcrglob'].max()\n",
    "\n",
    "Q25_delta_min = gdf_results.loc[gdf_results['QuantileRank_delta'] == 0]['RRMSE_et_delta_wp'].min()\n",
    "Q25_delta_max = gdf_results.loc[gdf_results['QuantileRank_delta'] == 0]['RRMSE_et_delta_wp'].max()\n",
    "\n",
    "Q50_delta_min = gdf_results.loc[gdf_results['QuantileRank_delta'] == 1]['RRMSE_et_delta_wp'].min()\n",
    "Q50_delta_max = gdf_results.loc[gdf_results['QuantileRank_delta'] == 1]['RRMSE_et_delta_wp'].max()\n",
    "\n",
    "Q75_delta_min = gdf_results.loc[gdf_results['QuantileRank_delta'] == 2]['RRMSE_et_delta_wp'].min()\n",
    "Q75_delta_max = gdf_results.loc[gdf_results['QuantileRank_delta'] == 2]['RRMSE_et_delta_wp'].max()\n",
    "\n",
    "Q100_delta_min = gdf_results.loc[gdf_results['QuantileRank_delta'] == 3]['RRMSE_et_delta_wp'].min()\n",
    "Q100_delta_max = gdf_results.loc[gdf_results['QuantileRank_delta'] == 3]['RRMSE_et_delta_wp'].max()\n",
    "\n",
    "# df_wflow = df_wflow.drop(columns=['QuantileRank'])\n",
    "\n",
    "df_wflow=pd.DataFrame(data=[x_wflow,y_wflow]).T\n",
    "df_wflow.columns=['RRMSE','CDF']\n",
    "\n",
    "df_pcrglob=pd.DataFrame(data=[x_pcrglob,y_pcrglob]).T\n",
    "df_pcrglob.columns=['RRMSE','CDF']\n",
    "\n",
    "df_delta=pd.DataFrame(data=[x_delta,y_delta]).T\n",
    "df_delta.columns=['RRMSE','CDF']"
   ]
  },
  {
   "cell_type": "code",
   "execution_count": 8,
   "id": "8e387136-0314-42a8-93dc-3a54c717cf41",
   "metadata": {},
   "outputs": [],
   "source": [
    "df_wflow.loc[df_wflow['RRMSE'] > 2, 'RRMSE'] = 2\n",
    "df_pcrglob.loc[df_pcrglob['RRMSE'] > 2, 'RRMSE'] = 2\n",
    "\n",
    "df_delta.loc[df_delta['RRMSE'] < -2, 'RRMSE'] = -2\n",
    "df_delta.loc[df_delta['RRMSE'] > 2, 'RRMSE'] = 2\n",
    "\n",
    "# df_wflow = df_wflow.loc[df_wflow['KGE-NP'] >= -1]\n",
    "# df_pcrglob = df_wflow.loc[df_pcrglob['KGE-NP'] >= -1]\n",
    "\n",
    "\n",
    "# df_delta = df_delta.loc[(df_delta['KGE-NP'] >= -1) & (df_delta['KGE-NP'] <= 1)]"
   ]
  },
  {
   "cell_type": "markdown",
   "id": "168f2fab-d3e6-47fd-adf4-4ef44f73c7aa",
   "metadata": {},
   "source": [
    "## Create spatial plot"
   ]
  },
  {
   "cell_type": "code",
   "execution_count": null,
   "id": "382a8fe6-bf71-4f6f-b897-35e96cf2d691",
   "metadata": {},
   "outputs": [
    {
     "name": "stderr",
     "output_type": "stream",
     "text": [
      "/scratch-local/jaerts.4291379/ipykernel_2295514/1792038929.py:156: UserWarning: FixedFormatter should only be used together with FixedLocator\n",
      "  cmap.set_yticklabels(yticks)\n",
      "/scratch-local/jaerts.4291379/ipykernel_2295514/1792038929.py:158: UserWarning: FixedFormatter should only be used together with FixedLocator\n",
      "  cmap.set_yticklabels(yticks)\n",
      "/scratch-local/jaerts.4291379/ipykernel_2295514/1792038929.py:160: UserWarning: FixedFormatter should only be used together with FixedLocator\n",
      "  cmap.set_yticklabels(yticks)\n"
     ]
    }
   ],
   "source": [
    "import string\n",
    "import matplotlib.lines as mlines\n",
    "matplotlib.rcParams.update({'font.size': 20})\n",
    "matplotlib.rcParams['lines.markersize'] = 5  \n",
    "\n",
    "# fig, axes = plt.subplots(2, 3,figsize=(20, 20), subplot_kw={\"projection\": ccrs.PlateCarree()}, gridspec_kw={'height_ratios': [1, 2], 'width_ratios':[1,1,1]})\n",
    "fig, axes = plt.subplots(2, 3,figsize=(20, 20), gridspec_kw={'height_ratios': [1, 12], 'width_ratios':[1,1,1]})\n",
    "\n",
    "\n",
    "\n",
    "# fig.add_subplot(211, projection=ccrs.PlateCarree())\n",
    "# plt.subplots_adjust(wspace=0.05, hspace=0)\n",
    "\n",
    "colormap1 = 'Reds'\n",
    "colormap2 = 'PiYG'\n",
    "cmap = plt.cm.get_cmap(colormap1)\n",
    "\n",
    "axes[0,0].axvspan(Q25_wflow_min,\n",
    "            Q25_wflow_max,\n",
    "            color=\"darkgreen\", alpha=0.2, lw=0)\n",
    "axes[0,0].axvspan(Q50_wflow_min,\n",
    "            Q50_wflow_max,\n",
    "            color=\"chartreuse\", alpha=0.2, lw=0)\n",
    "axes[0,0].axvspan(Q75_wflow_min,\n",
    "            Q75_wflow_max,\n",
    "            color=\"gold\", alpha=0.2, lw=0)\n",
    "axes[0,0].axvspan(Q100_wflow_min,\n",
    "            Q100_wflow_max,\n",
    "            color=\"darkorange\", alpha=0.2, lw=0)\n",
    "\n",
    "\n",
    "rect1 = mlines.Line2D([], [], marker=\"s\", markersize=25, linewidth=0, color=\"darkgreen\", alpha=0.2)\n",
    "rect2 = mlines.Line2D([], [], marker=\"s\", markersize=25, linewidth=0, color=\"chartreuse\",alpha=0.2)\n",
    "rect3 = mlines.Line2D([], [], marker=\"s\", markersize=25, linewidth=0, color=\"gold\", alpha=0.2)\n",
    "rect4 = mlines.Line2D([], [], marker=\"s\", markersize=25, linewidth=0, color=\"darkorange\",alpha=0.2)\n",
    "\n",
    "axes[0,0].legend((rect1, rect2, rect3, rect4), ('Q1', 'Q2', 'Q3', 'Q4'))\n",
    "ax1 = sns.scatterplot(ax=axes[0,0], data=df_wflow, x='RRMSE', y='CDF', hue='RRMSE', palette=colormap1, legend=None, linewidth=0)\n",
    "ax1.set_xlim(0, 2)\n",
    "ax1.set_ylim(0,1)\n",
    "\n",
    "\n",
    "\n",
    "axes[0,1].axvspan(Q25_pcrglob_min,\n",
    "            Q25_pcrglob_max,\n",
    "            color=\"darkgreen\", alpha=0.2, lw=0)\n",
    "axes[0,1].axvspan(Q50_pcrglob_min,\n",
    "            Q50_pcrglob_max,\n",
    "            color=\"chartreuse\", alpha=0.2, lw=0)\n",
    "\n",
    "axes[0,1].axvspan(Q75_pcrglob_min,\n",
    "            Q75_pcrglob_max,\n",
    "            color=\"gold\", alpha=0.2, lw=0)\n",
    "axes[0,1].axvspan(Q100_pcrglob_min,\n",
    "            Q100_pcrglob_max,\n",
    "            color=\"darkorange\", alpha=0.2, lw=0)\n",
    "ax2 = sns.scatterplot(ax=axes[0,1], data=df_pcrglob, x='RRMSE', y='CDF', hue='RRMSE', palette=colormap1, legend=None,linewidth=0)\n",
    "ax2.set_xlim(0,2)\n",
    "ax2.set_ylim(0,1)\n",
    "\n",
    "axes[0,2].axvspan(Q25_delta_min,\n",
    "            Q25_delta_max,\n",
    "            color=\"darkgreen\", alpha=0.2, lw=0)\n",
    "axes[0,2].axvspan(Q50_delta_min,\n",
    "            Q50_delta_max,\n",
    "            color=\"chartreuse\", alpha=0.2, lw=0)\n",
    "axes[0,2].axvspan(Q75_delta_min,\n",
    "            Q75_delta_max,\n",
    "            color=\"gold\", alpha=0.2, lw=0)\n",
    "axes[0,2].axvspan(Q100_delta_min,\n",
    "            Q100_delta_max,\n",
    "            color=\"darkorange\", alpha=0.2, lw=0)\n",
    "\n",
    "\n",
    "ax3 = sns.scatterplot(ax=axes[0,2], data=df_delta, x='RRMSE', y='CDF', hue='RRMSE', palette=colormap2, legend=None,linewidth=0)\n",
    "ax3.set_xlim(-2, 2)\n",
    "ax3.set_ylim(0,1)\n",
    "\n",
    "ax1.set(xlabel=None)\n",
    "ax2.set(xlabel=None, ylabel=None)\n",
    "ax3.set(xlabel=None, ylabel=None)\n",
    "\n",
    "fig.delaxes(axes[1,0])\n",
    "axes[1,0] = fig.add_subplot(2, 3, 4, projection=ccrs.PlateCarree())\n",
    "ax4 = gdf_results.plot(ax=axes[1,0], column='RRMSE_et_wflow',\n",
    "                        cmap=colormap1,\n",
    "                        vmin=0,\n",
    "                        vmax=2,\n",
    "                        legend=True,\n",
    "                        legend_kwds={'label': \"RRMSE\",\n",
    "                                     'orientation': \"horizontal\",\n",
    "                                     \"fraction\":0.046,\n",
    "                                     \"pad\":0.01},\n",
    "                       \n",
    "                      )\n",
    "\n",
    "fig.delaxes(axes[1,1])\n",
    "axes[1,1] = fig.add_subplot(2, 3, 5, projection=ccrs.PlateCarree())\n",
    "\n",
    "ax5 = gdf_results.plot(ax=axes[1,1], column='RRMSE_et_pcrglob',\n",
    "                        cmap=colormap1,\n",
    "                        vmin=0,\n",
    "                        vmax=2,\n",
    "                        legend=True,\n",
    "                        legend_kwds={'label': \"RRMSE\",\n",
    "                                     'orientation': \"horizontal\",\n",
    "                                     \"fraction\":0.046,\n",
    "                                     \"pad\":0.01,\n",
    "                                    })\n",
    "fig.delaxes(axes[1,2])\n",
    "axes[1,2] = fig.add_subplot(2, 3, 6, projection=ccrs.PlateCarree())\n",
    "\n",
    "ax6 = gdf_results.plot(ax=axes[1,2], column='RRMSE_et_delta_wp',\n",
    "                        cmap=colormap2,\n",
    "                        vmin=-2,\n",
    "                        vmax=2,\n",
    "                        legend=True,\n",
    "                        legend_kwds={'label': \"W>             RRMSE             P>\",\n",
    "                                     'orientation': \"horizontal\",\n",
    "                                     \"fraction\":0.046,\n",
    "                                     \"pad\":0.01,\n",
    "                                    })\n",
    "\n",
    "ax4.add_feature(cartopy.feature.OCEAN)\n",
    "ax4.add_feature(cartopy.feature.LAND, edgecolor='black')\n",
    "ax4.add_feature(cartopy.feature.LAKES, edgecolor='black')\n",
    "ax4.add_feature(cartopy.feature.RIVERS)\n",
    "ax4.coastlines(resolution='10m')\n",
    "\n",
    "ax5.add_feature(cartopy.feature.OCEAN)\n",
    "ax5.add_feature(cartopy.feature.LAND, edgecolor='black')\n",
    "ax5.add_feature(cartopy.feature.LAKES, edgecolor='black')\n",
    "ax5.add_feature(cartopy.feature.RIVERS)\n",
    "ax5.coastlines(resolution='10m')\n",
    "\n",
    "ax6.add_feature(cartopy.feature.OCEAN)\n",
    "ax6.add_feature(cartopy.feature.LAND, edgecolor='black')\n",
    "ax6.add_feature(cartopy.feature.LAKES, edgecolor='black')\n",
    "ax6.add_feature(cartopy.feature.RIVERS)\n",
    "ax6.coastlines(resolution='10m')\n",
    "\n",
    "ax1.set_title('Actual Evaporation:\\n wflow_sbm (W)', size=25)\n",
    "ax2.set_title('Actual Evaporation:\\n PCR-GLOBWB (P)', size=25)\n",
    "ax3.set_title('Actual Evaporation:\\n $\\Delta$(W-P)', size=25)\n",
    "\n",
    "axes[0,0].text(-0.08,1.12, string.ascii_lowercase[0], transform=axes[0,0].transAxes, \n",
    "            size=30, weight='bold')\n",
    "axes[0,1].text(-0.08,1.12, string.ascii_lowercase[1], transform=axes[0,1].transAxes, \n",
    "            size=30, weight='bold')\n",
    "axes[0,2].text(-0.08,1.12, string.ascii_lowercase[2], transform=axes[0,2].transAxes, \n",
    "            size=30, weight='bold')\n",
    "\n",
    "\n",
    "yticks=['','0.25','0.50','0.75','1.00']\n",
    "cmap = ax1.get_figure().get_axes()[0]\n",
    "cmap.set_yticklabels(yticks)\n",
    "cmap = ax1.get_figure().get_axes()[1]\n",
    "cmap.set_yticklabels(yticks)\n",
    "cmap = ax1.get_figure().get_axes()[2]\n",
    "cmap.set_yticklabels(yticks)\n",
    "\n",
    "plt.subplots_adjust(wspace=0.2, hspace=-1.05)\n",
    "\n",
    "plt.savefig(f'/home/jaerts/model_refinement_master/new_scripts/figures/3_fig_evaporation_evaluation_spatial_2.png', bbox_inches='tight', dpi=400)"
   ]
  },
  {
   "cell_type": "code",
   "execution_count": null,
   "id": "ac5a1d50-ca38-44c0-bff0-5e3761693f08",
   "metadata": {},
   "outputs": [],
   "source": []
  }
 ],
 "metadata": {
  "kernelspec": {
   "display_name": "Python 3 (ipykernel)",
   "language": "python",
   "name": "python3"
  },
  "language_info": {
   "codemirror_mode": {
    "name": "ipython",
    "version": 3
   },
   "file_extension": ".py",
   "mimetype": "text/x-python",
   "name": "python",
   "nbconvert_exporter": "python",
   "pygments_lexer": "ipython3",
   "version": "3.10.10"
  }
 },
 "nbformat": 4,
 "nbformat_minor": 5
}
