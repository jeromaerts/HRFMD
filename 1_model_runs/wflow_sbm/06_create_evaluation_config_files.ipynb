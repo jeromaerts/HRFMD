{
 "cells": [
  {
   "cell_type": "markdown",
   "id": "c8154e80-6b0a-410c-890d-aaa5e391da8a",
   "metadata": {},
   "source": [
    "# Create wflow evaluation period config file using calibrated parameters\n",
    "## Based on best performing ksathorfrac values"
   ]
  },
  {
   "cell_type": "code",
   "execution_count": 1,
   "id": "8617334a-51d8-4882-9b52-e8fd92fc4ab8",
   "metadata": {},
   "outputs": [],
   "source": [
    "from glob import glob\n",
    "from pathlib import Path\n",
    "\n",
    "import toml\n",
    "import pandas as pd\n",
    "import xarray as xr"
   ]
  },
  {
   "cell_type": "markdown",
   "id": "60feb716-8650-4612-852e-aca466906e76",
   "metadata": {},
   "source": [
    "# Set Paths"
   ]
  },
  {
   "cell_type": "code",
   "execution_count": 2,
   "id": "428c2588-def1-48e7-8274-9f5d7531aa8e",
   "metadata": {},
   "outputs": [],
   "source": [
    "# Set Paths\n",
    "ROOT = Path('/gpfs/work1/0/wtrcycle/users/jaerts/model_refinement_pub/')\n",
    "MODELS = Path(f'{ROOT}/model_parameters/wflow_sbm/')\n",
    "AUXDATA = Path(f\"{ROOT}/aux_data\")\n",
    "RESULTS = Path(f\"{ROOT}/results/streamflow_evaluation/wflow_sbm_calibration/\")\n",
    "\n",
    "template = f\"{AUXDATA}/wflow_sbm/template_wflow_sbm_evaluation.toml\""
   ]
  },
  {
   "cell_type": "markdown",
   "id": "72b56aaa-0689-443a-8295-f70670ca5df7",
   "metadata": {},
   "source": [
    "# Load calibration results"
   ]
  },
  {
   "cell_type": "code",
   "execution_count": 3,
   "id": "10373357-cf72-4924-bd7c-ad86fb8b9859",
   "metadata": {
    "tags": []
   },
   "outputs": [],
   "source": [
    "# Load calibration file\n",
    "calibration_file = f\"{RESULTS}/wflow_calibration_objective_function_overview.csv\"\n",
    "df = pd.read_csv(calibration_file, index_col='basin_id')\n",
    "\n",
    "basin_ids = df.index.to_list()"
   ]
  },
  {
   "cell_type": "code",
   "execution_count": 4,
   "id": "4b52e2ae-85a6-4ad8-bffb-125f3a12beec",
   "metadata": {},
   "outputs": [
    {
     "data": {
      "text/plain": [
       "646"
      ]
     },
     "execution_count": 4,
     "metadata": {},
     "output_type": "execute_result"
    }
   ],
   "source": [
    "len(basin_ids)"
   ]
  },
  {
   "cell_type": "markdown",
   "id": "dac190b0-0b70-40e7-b540-473a6e0900f5",
   "metadata": {},
   "source": [
    "# Create evaluation period config files based on calibrated parameters"
   ]
  },
  {
   "cell_type": "code",
   "execution_count": 8,
   "id": "884d87c6-9ee0-4df2-8633-af68384cf39d",
   "metadata": {},
   "outputs": [],
   "source": [
    "# Evaluation Period\n",
    "for basin_id in basin_ids:\n",
    "    calibration_values = int(df.loc[int(basin_id)].ksathorfrac)  \n",
    "    \n",
    "    config_file = toml.load(template)\n",
    "    config_file['loglevel'] = \"debug\"      \n",
    "    config_file['path_log'] = f\"log_evaluation.txt\"    \n",
    "    \n",
    "    # Add timeperiod\n",
    "    config_file['starttime'] = '2008-01-01T00:00:00'\n",
    "    config_file['endtime'] = '2017-12-31T00:00:00'\n",
    "    \n",
    "    # Add file location\n",
    "    config_file['input']['path_forcing'] = f'ceh-gear_chess_camels-gb_{basin_id}_2000_2017.nc'\n",
    "    config_file['input']['path_static'] = f'staticmaps_ksathorfrac_{calibration_values}.nc'\n",
    "\n",
    "    # Add output\n",
    "    config_file['state']['path_output'] = f'evaluation/outstate/outstates.nc'\n",
    "    config_file['output']['path'] = f'evaluation/output.nc'\n",
    "    config_file['csv']['path'] = f'evaluation/output.csv'\n",
    "    \n",
    "    # Add interception\n",
    "    config_file['output']['vertical']['interception'] = 'interception'\n",
    "    \n",
    "    \n",
    "   \n",
    "    with open(f'{MODELS}/{basin_id}/wflow_sbm_evaluation.toml', 'w') as f:\n",
    "        toml.dump(config_file, f)"
   ]
  },
  {
   "cell_type": "markdown",
   "id": "24375c10-2b85-4d36-8c98-e1a4b9f43a7d",
   "metadata": {},
   "source": [
    "# Create evaluation period parameter file"
   ]
  },
  {
   "cell_type": "code",
   "execution_count": 6,
   "id": "46f804b2-5814-487b-8009-329adca3b43b",
   "metadata": {
    "collapsed": true,
    "jupyter": {
     "outputs_hidden": true
    },
    "tags": []
   },
   "outputs": [
    {
     "ename": "NameError",
     "evalue": "name 'ProgressBar' is not defined",
     "output_type": "error",
     "traceback": [
      "\u001b[0;31m---------------------------------------------------------------------------\u001b[0m",
      "\u001b[0;31mNameError\u001b[0m                                 Traceback (most recent call last)",
      "Cell \u001b[0;32mIn [6], line 13\u001b[0m\n\u001b[1;32m     10\u001b[0m fname \u001b[38;5;241m=\u001b[39m \u001b[38;5;124mf\u001b[39m\u001b[38;5;124m'\u001b[39m\u001b[38;5;132;01m{\u001b[39;00mMODELS\u001b[38;5;132;01m}\u001b[39;00m\u001b[38;5;124m/\u001b[39m\u001b[38;5;132;01m{\u001b[39;00mbasin_id\u001b[38;5;132;01m}\u001b[39;00m\u001b[38;5;124m/staticmaps_ksathorfrac_\u001b[39m\u001b[38;5;132;01m{\u001b[39;00mcalibration_value\u001b[38;5;132;01m}\u001b[39;00m\u001b[38;5;124m.nc\u001b[39m\u001b[38;5;124m'\u001b[39m\n\u001b[1;32m     12\u001b[0m write_job \u001b[38;5;241m=\u001b[39m ds\u001b[38;5;241m.\u001b[39mto_netcdf(fname, compute\u001b[38;5;241m=\u001b[39m\u001b[38;5;28;01mFalse\u001b[39;00m)\n\u001b[0;32m---> 13\u001b[0m \u001b[38;5;28;01mwith\u001b[39;00m ProgressBar():\n\u001b[1;32m     14\u001b[0m     write_job\u001b[38;5;241m.\u001b[39mcompute()\n",
      "\u001b[0;31mNameError\u001b[0m: name 'ProgressBar' is not defined"
     ]
    }
   ],
   "source": [
    "for basin_id in basin_ids:\n",
    "    calibration_value = int(df.loc[int(basin_id)].ksathorfrac) \n",
    "    \n",
    "    # Load dataset\n",
    "    ds = xr.open_dataset(f'{MODELS}/{basin_id}/staticmaps.nc')\n",
    "    # Multiply with calibration value\n",
    "    ds['KsatHorFrac'] = ds.KsatHorFrac * (calibration_value / 100)\n",
    "\n",
    "    # Save to netcdf\n",
    "    fname = f'{MODELS}/{basin_id}/staticmaps_ksathorfrac_{calibration_value}.nc'\n",
    "\n",
    "    write_job = ds.to_netcdf(fname, compute=False)\n",
    "    with ProgressBar():\n",
    "        write_job.compute()"
   ]
  },
  {
   "cell_type": "code",
   "execution_count": null,
   "id": "76d60f98-7eac-4005-bd84-dd3eadef6cdc",
   "metadata": {},
   "outputs": [],
   "source": []
  }
 ],
 "metadata": {
  "kernelspec": {
   "display_name": "Python 3 (ipykernel)",
   "language": "python",
   "name": "python3"
  },
  "language_info": {
   "codemirror_mode": {
    "name": "ipython",
    "version": 3
   },
   "file_extension": ".py",
   "mimetype": "text/x-python",
   "name": "python",
   "nbconvert_exporter": "python",
   "pygments_lexer": "ipython3",
   "version": "3.10.6"
  }
 },
 "nbformat": 4,
 "nbformat_minor": 5
}
