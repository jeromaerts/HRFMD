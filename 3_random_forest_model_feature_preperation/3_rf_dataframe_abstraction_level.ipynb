{
 "cells": [
  {
   "cell_type": "markdown",
   "id": "f61b7528-58bc-4ad4-926e-30b7089d0c56",
   "metadata": {},
   "source": [
    "# Create abstraction level dataframe based on independent variable classes"
   ]
  },
  {
   "cell_type": "code",
   "execution_count": 1,
   "id": "bc8ba2ad-c5d8-42c4-b64f-ea1bb4270bf3",
   "metadata": {},
   "outputs": [],
   "source": [
    "import pandas as pd\n",
    "from pathlib import Path\n",
    "\n",
    "from sklearn import preprocessing"
   ]
  },
  {
   "cell_type": "code",
   "execution_count": 2,
   "id": "9dee233e-c541-40c4-851d-d713e0c83b91",
   "metadata": {},
   "outputs": [],
   "source": [
    "ROOT = Path('/gpfs/work1/0/wtrcycle/users/jaerts/model_refinement_pub/')\n",
    "ATTRDIR = f'{ROOT}/catchment_attributes/'\n",
    "AUXDIR = f'{ROOT}/aux_data/'\n",
    "RESULTS = f'{ROOT}/results/'"
   ]
  },
  {
   "cell_type": "code",
   "execution_count": 3,
   "id": "508845ea-c5a4-488b-954e-dfd1c5d5aed1",
   "metadata": {},
   "outputs": [],
   "source": [
    "df_abs = pd.DataFrame()\n",
    "features = []\n",
    "classes = []"
   ]
  },
  {
   "cell_type": "markdown",
   "id": "2930eb8b-dd89-4386-b0e3-017550433983",
   "metadata": {},
   "source": [
    "### Meteorology"
   ]
  },
  {
   "cell_type": "code",
   "execution_count": 4,
   "id": "63aec571-dba3-4ade-8940-541d3cff19e1",
   "metadata": {},
   "outputs": [],
   "source": [
    "# Climate class\n",
    "df = pd.read_csv(f\"{ATTRDIR}/camels-gb_attributes/CAMELS_GB_climatic_attributes.csv\", index_col='gauge_id')\n",
    "\n",
    "features.append(df.columns.to_list())\n",
    "classes.append(['meteorology']*len(df.columns))"
   ]
  },
  {
   "cell_type": "markdown",
   "id": "4cb972f8-1b6c-4eb4-9d37-63ec48b1d934",
   "metadata": {},
   "source": [
    "### Land Surface"
   ]
  },
  {
   "cell_type": "code",
   "execution_count": 5,
   "id": "669e1bde-e2f5-49f0-94ad-7bda0e155335",
   "metadata": {},
   "outputs": [],
   "source": [
    "# Topo class\n",
    "df = pd.read_csv(f\"{ATTRDIR}/camels-gb_attributes/CAMELS_GB_topographic_attributes.csv\", index_col='gauge_id')\n",
    "df = df.drop(columns=['gauge_name', 'gauge_lat', 'gauge_lon', 'gauge_easting','gauge_northing', 'elev_min', 'elev_10', 'elev_50', 'elev_90', 'elev_max'])\n",
    "\n",
    "features.append(df.columns.to_list())\n",
    "classes.append(['land surface']*len(df.columns))\n",
    "\n",
    "# Landcover class\n",
    "df = pd.read_csv(f\"{ATTRDIR}/camels-gb_attributes/CAMELS_GB_landcover_attributes.csv\", index_col='gauge_id')\n",
    "\n",
    "features.append(df.columns.to_list())\n",
    "classes.append(['land surface']*len(df.columns))"
   ]
  },
  {
   "cell_type": "markdown",
   "id": "c5649323-b934-4d67-8318-1bdb0a23cad6",
   "metadata": {},
   "source": [
    "### Subsurface"
   ]
  },
  {
   "cell_type": "code",
   "execution_count": 6,
   "id": "ff8e8482-51d7-4b10-a23d-b43313f1cb2e",
   "metadata": {},
   "outputs": [],
   "source": [
    "# Hydrogeology class\n",
    "df = pd.read_csv(f\"{ATTRDIR}/camels-gb_attributes/CAMELS_GB_hydrogeology_attributes.csv\", index_col='gauge_id')\n",
    "df = df.drop(columns=['low_nsig_perc','nsig_low_perc'])\n",
    "features.append(df.columns.to_list())\n",
    "classes.append(['subsurface']*len(df.columns))\n",
    "\n",
    "# Soil class\n",
    "df = pd.read_csv(f\"{ATTRDIR}/camels-gb_attributes/CAMELS_GB_soil_attributes.csv\", index_col='gauge_id')\n",
    "df = df.drop(columns=['sand_perc_missing', 'silt_perc_missing','clay_perc_missing', 'organic_perc_missing','bulkdens_missing', 'tawc_missing',\n",
    "                      'porosity_cosby_missing', 'conductivity_cosby_missing','conductivity_hypres_missing', 'root_depth_missing',\n",
    "                      'soil_depth_pelletier_missing','porosity_hypres_missing','bulkdens_5','bulkdens_50','bulkdens_95', 'tawc_5', 'tawc_50','tawc_95',\n",
    "                     'porosity_cosby_5','porosity_cosby_50','porosity_cosby_95','conductivity_cosby_5','conductivity_cosby_50','conductivity_cosby_95','porosity_hypres_5',\n",
    "                      'porosity_hypres_50','porosity_hypres_95','conductivity_hypres_5','conductivity_hypres_50','conductivity_hypres_95','root_depth_5','root_depth_50',\n",
    "                     'root_depth_95','soil_depth_pelletier_5','soil_depth_pelletier_50','soil_depth_pelletier_95'])\n",
    "\n",
    "\n",
    "features.append(df.columns.to_list())\n",
    "classes.append(['subsurface']*len(df.columns))"
   ]
  },
  {
   "cell_type": "markdown",
   "id": "1742cde9-17b7-4906-8b48-9a1168848a6d",
   "metadata": {},
   "source": [
    "### Hydrology"
   ]
  },
  {
   "cell_type": "code",
   "execution_count": 7,
   "id": "42a5a9de-6b14-467c-a724-81955a8b5fa3",
   "metadata": {},
   "outputs": [],
   "source": [
    "# Hydrology class\n",
    "df = pd.read_table(f\"{ATTRDIR}/hydrological_signatures/CAMELS_GB_signatures.txt\", sep=',')\n",
    "\n",
    "df = df.drop(columns=['Q_mean_error_str', 'TotalRR_error_str','QP_elasticity_error_str', 'FDC_slope_error_str','BFI_error_str', 'HFD_mean_error_str',\n",
    "                      'Q5_error_str', 'Q95_error_str','high_Q_freq_error_str', 'high_Q_dur_error_str','low_Q_freq_error_str','low_Q_dur_error_str',\n",
    "                      'low_Q_dur_error_str','zero_Q_freq_error_str','zero_Q_freq','TotalRR'])\n",
    "\n",
    "\n",
    "features.append(df.columns.to_list())\n",
    "classes.append(['hydrology']*len(df.columns))\n",
    "\n",
    "# Hydrological Signatures - surface water\n",
    "df = pd.read_table(f\"{ATTRDIR}/hydrological_signatures/McMillan_Groundwater_signatures.txt\", sep=',',\n",
    "                   usecols=['TotalRR','Recession_a_Seasonality','AverageStorage','BFI','BaseflowRecessionK'])\n",
    "\n",
    "features.append(df.columns.to_list())\n",
    "classes.append(['hydrology']*len(df.columns))\n",
    "\n",
    "# Hydrological Signatures - groundwater\n",
    "# Hydrological Signatures - surface water\n",
    "df = pd.read_table(f\"{ATTRDIR}/hydrological_signatures/McMillan_Overland_signatures.txt\", sep=',',\n",
    "                  usecols=['IE_thresh','SE_thresh','Storage_thresh','SE_slope'])\n",
    "\n",
    "features.append(df.columns.to_list())\n",
    "classes.append(['hydrology']*len(df.columns))"
   ]
  },
  {
   "cell_type": "markdown",
   "id": "10b8a55b-790f-45dd-b849-49fb83bddbb1",
   "metadata": {},
   "source": [
    "## Create dataframe"
   ]
  },
  {
   "cell_type": "code",
   "execution_count": 8,
   "id": "ae563a1e-54b8-43a9-9b54-d901b98ee845",
   "metadata": {},
   "outputs": [],
   "source": [
    "features = [item for sublist in features for item in sublist]\n",
    "classes = [item for sublist in classes for item in sublist]\n",
    "\n",
    "features.append('BFI.1')\n",
    "classes.append('hydrology')\n",
    "\n",
    "df_abs['Features'] = features\n",
    "df_abs['Classes'] = classes\n",
    "\n",
    "df_abs = df_abs.set_index('Features')\n",
    "df_abs.to_csv(f'{AUXDIR}/rf_features/independent_variable_abstraction_level_new.csv')"
   ]
  },
  {
   "cell_type": "code",
   "execution_count": null,
   "id": "205c8b9b-57fc-4bd3-9a25-0ee7fed09579",
   "metadata": {},
   "outputs": [],
   "source": []
  }
 ],
 "metadata": {
  "kernelspec": {
   "display_name": "Python 3 (ipykernel)",
   "language": "python",
   "name": "python3"
  },
  "language_info": {
   "codemirror_mode": {
    "name": "ipython",
    "version": 3
   },
   "file_extension": ".py",
   "mimetype": "text/x-python",
   "name": "python",
   "nbconvert_exporter": "python",
   "pygments_lexer": "ipython3",
   "version": "3.10.6"
  }
 },
 "nbformat": 4,
 "nbformat_minor": 5
}
