{
 "cells": [
  {
   "cell_type": "markdown",
   "id": "1c8a5a0c-919f-4e4b-813c-90d4cdb8c334",
   "metadata": {},
   "source": [
    "## Create reference evapotranspiration time series (FLUXCOM)"
   ]
  },
  {
   "cell_type": "markdown",
   "id": "f45d2f8c-320c-4473-8cb9-bafd0f635daa",
   "metadata": {},
   "source": [
    "Unit Conversion is based on: https://earthscience.stackexchange.com/questions/20733/fluxnet15-how-to-convert-latent-heat-flux-to-actual-evapotranspiration"
   ]
  },
  {
   "cell_type": "code",
   "execution_count": null,
   "id": "0be766ed-235c-4221-85b6-99b782793ecb",
   "metadata": {},
   "outputs": [],
   "source": [
    "import warnings\n",
    "warnings.filterwarnings(\"ignore\", category=UserWarning)\n",
    "warnings.filterwarnings(\"ignore\", category=DeprecationWarning)"
   ]
  },
  {
   "cell_type": "code",
   "execution_count": null,
   "id": "b6578d69-ea75-47a9-9aa6-263270f4f81d",
   "metadata": {},
   "outputs": [],
   "source": [
    "from glob import glob\n",
    "from pathlib import Path\n",
    "\n",
    "import os\n",
    "import iris\n",
    "import xarray as xr\n",
    "import pandas as pd\n",
    "from esmvalcore.preprocessor import regrid\n",
    "from pathos.threading import ThreadPool as Pool\n",
    "from dask.diagnostics import ProgressBar"
   ]
  },
  {
   "cell_type": "markdown",
   "id": "4f4c2496-c6d1-42a4-a006-383324e1a19c",
   "metadata": {},
   "source": [
    "## Set Paths"
   ]
  },
  {
   "cell_type": "code",
   "execution_count": null,
   "id": "1ae41e32-2211-4a65-86f1-928dddc9fdd6",
   "metadata": {},
   "outputs": [],
   "source": [
    "# Set Paths\n",
    "ROOT = Path('/gpfs/work1/0/wtrcycle/users/jaerts/model_refinement_pub/')\n",
    "AUXDIR = Path(f\"{ROOT}/aux_data/\")\n",
    "OBSDIR = Path(f\"{ROOT}/observations/\")\n",
    "MODELS = Path(f'{ROOT}/model_parameters/wflow_sbm/')\n",
    "OUTPUT = Path(f'{OBSDIR}/evaporation/regridded_FLUXCOM/')"
   ]
  },
  {
   "cell_type": "markdown",
   "id": "5d2f686c-78e7-45c7-b7cf-1d29f1538b48",
   "metadata": {},
   "source": [
    "## Config"
   ]
  },
  {
   "cell_type": "code",
   "execution_count": null,
   "id": "f6131509-f713-4cee-a346-8fb3fb283106",
   "metadata": {},
   "outputs": [],
   "source": [
    "# Get available basin IDs wflow_sbm\n",
    "basin_dirs = glob(f'{MODELS}/*')\n",
    "basin_ids = [s.split('/')[-1] for s in basin_dirs]\n",
    "basin_ids.sort()\n",
    "\n",
    "# Amount of available cores\n",
    "cores_available = 1"
   ]
  },
  {
   "cell_type": "markdown",
   "id": "b5016c41-1ff5-4b9a-8d45-204d6c3c86d3",
   "metadata": {},
   "source": [
    "## Preprocess function"
   ]
  },
  {
   "cell_type": "code",
   "execution_count": null,
   "id": "eef0685c-faea-4c4d-b34d-cd0c8a096ac1",
   "metadata": {},
   "outputs": [],
   "source": [
    "def prep_observations(basin_id):\n",
    "    print(basin_id)\n",
    "    # Set basin directory\n",
    "    BASINDIR = f'{MODELS}/{basin_id}/'\n",
    "    \n",
    "    # Open netCDF file as an example grid from the model directory\n",
    "    cube_example = iris.load(f'{BASINDIR}/staticmaps.nc')[1]\n",
    "\n",
    "    # Guess bounds   \n",
    "    cube_example.coord('y').guess_bounds()\n",
    "    cube_example.coord('x').guess_bounds()\n",
    "\n",
    "    # Rename Coords\n",
    "    cube_example.coord('y').rename('latitude')\n",
    "    cube_example.coord('x').rename('longitude')\n",
    "\n",
    "    cube_example.coord('latitude').units = 'degrees'\n",
    "    cube_example.coord('longitude').units = 'degrees'\n",
    "    \n",
    "    # Load observation netCDF files\n",
    "    files = glob(f'{OBSDIR}/evaporation/FLUXCOM/*.nc')\n",
    "    \n",
    "    def edit_attributes(cube, field, filename):\n",
    "        cube.attributes.pop('History', 'none')\n",
    "\n",
    "    cubes_obs = iris.load(files, 'latent heat', callback=edit_attributes)\n",
    "    cube_obs = cubes_obs.concatenate_cube()\n",
    "    \n",
    "    # Regrid observation cube\n",
    "    cube_out = regrid(cube_obs, cube_example, scheme='area_weighted')\n",
    "    \n",
    "    # Create obs dataset\n",
    "    da = xr.DataArray.from_iris(cube_out)\n",
    "\n",
    "    # Create mask dataset\n",
    "    mask = xr.open_dataset(f'{BASINDIR}/staticmaps.nc').mask\n",
    "    mask = mask.rename({'y':'latitude','x':'longitude'})\n",
    "\n",
    "    # Convert unit to mm/time\n",
    "    da = da / 2.45\n",
    "\n",
    "    # Apply mask\n",
    "    da = da.where(mask>0)\n",
    "    \n",
    "    # Calculate time series\n",
    "    da = da.mean(['latitude','longitude'])\n",
    "    da = da.chunk(chunks='auto')\n",
    "    da = da.drop('spatial_ref')\n",
    "    \n",
    "    # Output filename\n",
    "    output_fname = f'{OUTPUT}/{basin_id}_FLUXCOM_evaporation_ref_2008_2015.nc'\n",
    "\n",
    "    # Save to netcdf\n",
    "    write_job = da.to_netcdf(output_fname, compute=False)\n",
    "    with ProgressBar():\n",
    "        write_job.compute()\n",
    "        \n",
    "    return print(f'{basin_id} finished: {output_fname}')"
   ]
  },
  {
   "cell_type": "markdown",
   "id": "c1a70e03-8d15-4131-bc39-c0fd2bbdd57c",
   "metadata": {},
   "source": [
    "## Parallel Run Function"
   ]
  },
  {
   "cell_type": "code",
   "execution_count": null,
   "id": "e80c43f0-2728-42ec-af9c-29258c753b58",
   "metadata": {},
   "outputs": [],
   "source": [
    "def parallel_run(\n",
    "    basin_ids,\n",
    "    threads=cores_available,\n",
    "    ):\n",
    "    \n",
    "    # Set number of threads (cores) used for parallel run and map threads\n",
    "    if threads is None:\n",
    "        pool = Pool()\n",
    "    else:\n",
    "        pool = Pool(nodes=threads)\n",
    "    # Run parallel models\n",
    "    pool.map(\n",
    "        prep_observations,\n",
    "        basin_ids,\n",
    "        )\n",
    "    return"
   ]
  },
  {
   "cell_type": "markdown",
   "id": "71408050-8147-450b-b7df-da479b49c34e",
   "metadata": {},
   "source": [
    "## Sort basins by size"
   ]
  },
  {
   "cell_type": "code",
   "execution_count": null,
   "id": "7360f0eb-0185-4d76-8c82-fe44016bfa0f",
   "metadata": {},
   "outputs": [],
   "source": [
    "# Sort by basin size\n",
    "def sort_basin_ids_by_size(basin_ids):\n",
    "    sizes = []\n",
    "    for basin_id in basin_ids:\n",
    "        size = os.path.getsize(f'{MODELS}/{basin_id}/staticmaps.nc')\n",
    "        sizes.append(size)\n",
    "\n",
    "    df = pd.DataFrame()\n",
    "    df['basin_id'] = basin_ids\n",
    "    df['size'] = sizes\n",
    "    df = df.sort_values('size')\n",
    "\n",
    "    basin_ids = df.basin_id.to_list()\n",
    "    \n",
    "    return basin_ids\n",
    "\n",
    "basin_ids_sorted = sort_basin_ids_by_size(basin_ids)"
   ]
  },
  {
   "cell_type": "markdown",
   "id": "d47cb457-0874-433f-9394-c4555ac9cea3",
   "metadata": {},
   "source": [
    "# Run parallel function"
   ]
  },
  {
   "cell_type": "code",
   "execution_count": null,
   "id": "32457c56-1d25-4706-bb4e-e5aa8bad5d43",
   "metadata": {},
   "outputs": [],
   "source": [
    "# Run function\n",
    "parallel_run(basin_ids_sorted)"
   ]
  },
  {
   "cell_type": "code",
   "execution_count": null,
   "id": "66974bc2-25e7-49f9-bc8f-94ab7e05d9b1",
   "metadata": {},
   "outputs": [],
   "source": []
  }
 ],
 "metadata": {
  "kernelspec": {
   "display_name": "Python 3 (ipykernel)",
   "language": "python",
   "name": "python3"
  },
  "language_info": {
   "codemirror_mode": {
    "name": "ipython",
    "version": 3
   },
   "file_extension": ".py",
   "mimetype": "text/x-python",
   "name": "python",
   "nbconvert_exporter": "python",
   "pygments_lexer": "ipython3",
   "version": "3.10.6"
  }
 },
 "nbformat": 4,
 "nbformat_minor": 5
}
