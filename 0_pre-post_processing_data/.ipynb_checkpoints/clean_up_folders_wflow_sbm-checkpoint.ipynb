{
 "cells": [
  {
   "cell_type": "markdown",
   "id": "d55d77ec-8e81-46e9-a9af-cdeecc6a7940",
   "metadata": {},
   "source": [
    "## Removes redundant calibration folders and files wflow_sbm"
   ]
  },
  {
   "cell_type": "code",
   "execution_count": 74,
   "id": "f6e370ac-1910-4492-8a42-dfad2b9ae14d",
   "metadata": {},
   "outputs": [],
   "source": [
    "import glob\n",
    "import shutil\n",
    "import os"
   ]
  },
  {
   "cell_type": "code",
   "execution_count": 75,
   "id": "bf6e42b8-49ce-4681-bdd9-4b25c846d24c",
   "metadata": {},
   "outputs": [],
   "source": [
    "# Set Root directory\n",
    "root = f'/gpfs/work1/0/wtrcycle/users/jaerts/model_refinement_pub/model_parameters/wflow_sbm/' "
   ]
  },
  {
   "cell_type": "code",
   "execution_count": 76,
   "id": "5c6ef1da-946f-4203-b935-dbabcc874b7d",
   "metadata": {},
   "outputs": [],
   "source": [
    "# Get catchment ids\n",
    "folders = glob.glob(f'{root}/*')\n",
    "\n",
    "basin_ids = []\n",
    "for folder in folders:\n",
    "    basin_ids.append(folder.split('/')[-1])"
   ]
  },
  {
   "cell_type": "code",
   "execution_count": 78,
   "id": "e18110eb-8f03-458d-b851-759088c0fc50",
   "metadata": {},
   "outputs": [],
   "source": [
    "# Remove redundant calibration files and folders to save disk storage\n",
    "for basin_id in basin_ids:\n",
    "    # print(basin_id, '\\r')\n",
    "    \n",
    "    files = glob.glob(f'/gpfs/work1/0/wtrcycle/users/jaerts/model_refinement_pub/model_parameters/wflow_sbm/{basin_id}/ksat*')\n",
    "\n",
    "    for f in files:\n",
    "        shutil.rmtree(f)\n",
    "\n",
    "    files = glob.glob(f'/gpfs/work1/0/wtrcycle/users/jaerts/model_refinement_pub/model_parameters/wflow_sbm/{basin_id}/log*')\n",
    "    \n",
    "    for f in files:\n",
    "        os.remove(f)\n",
    "\n",
    "    files = glob.glob(f'/gpfs/work1/0/wtrcycle/users/jaerts/model_refinement_pub/model_parameters/wflow_sbm/{basin_id}/eval*')\n",
    "\n",
    "    for f in files:\n",
    "        shutil.rmtree(f)\n",
    "\n",
    "    files = glob.glob(f'/gpfs/work1/0/wtrcycle/users/jaerts/model_refinement_pub/model_parameters/wflow_sbm/{basin_id}/inmaps-*')\n",
    "\n",
    "    for f in files:\n",
    "        os.remove(f)\n",
    "\n",
    "    files = glob.glob(f'/gpfs/work1/0/wtrcycle/users/jaerts/model_refinement_pub/model_parameters/wflow_sbm/{basin_id}/wflow_sbm_evaluation_ksathorfrac_*.toml')\n",
    "    if files:\n",
    "        \n",
    "        ksat = files[0].split('.')[0].split('_')[-1]\n",
    "\n",
    "        files = glob.glob(f'/gpfs/work1/0/wtrcycle/users/jaerts/model_refinement_pub/model_parameters/wflow_sbm/{basin_id}/staticmaps_*.nc')\n",
    "\n",
    "        for f in files:\n",
    "            if ksat == f.split('.')[0].split('_')[-1]:\n",
    "                pass\n",
    "            else:\n",
    "                os.remove(f)\n",
    "\n",
    "        files = glob.glob(f'/gpfs/work1/0/wtrcycle/users/jaerts/model_refinement_pub/model_parameters/wflow_sbm/{basin_id}/wflow_sbm_ksathorfrac_*.toml')\n",
    "\n",
    "        for f in files:\n",
    "            os.remove(f)        \n",
    "\n",
    "    #     os.remove(glob.glob(f'/gpfs/work1/0/wtrcycle/users/jaerts/model_refinement_pub/model_parameters/wflow_sbm/{basin_id}/wflow_sbm_evaluation.*'))\n",
    "    #     os.remove(glob.glob(f'/gpfs/work1/0/wtrcycle/users/jaerts/model_refinement_pub/model_parameters/wflow_sbm/{basin_id}/wflow_sbm.*'))\n",
    "    #     shutil.rmtree(glob.glob(f'/gpfs/work1/0/wtrcycle/users/jaerts/model_refinement_pub/model_parameters/wflow_sbm/{basin_id}/run_*'))\n",
    "    \n",
    "    else:\n",
    "        pass"
   ]
  }
 ],
 "metadata": {
  "kernelspec": {
   "display_name": "Python 3 (ipykernel)",
   "language": "python",
   "name": "python3"
  },
  "language_info": {
   "codemirror_mode": {
    "name": "ipython",
    "version": 3
   },
   "file_extension": ".py",
   "mimetype": "text/x-python",
   "name": "python",
   "nbconvert_exporter": "python",
   "pygments_lexer": "ipython3",
   "version": "3.10.6"
  }
 },
 "nbformat": 4,
 "nbformat_minor": 5
}
